{
 "cells": [
  {
   "cell_type": "code",
   "execution_count": 157,
   "metadata": {},
   "outputs": [
    {
     "name": "stderr",
     "output_type": "stream",
     "text": [
      "\u001b[32m\u001b[1m   Resolving\u001b[22m\u001b[39m package versions..."
     ]
    },
    {
     "name": "stderr",
     "output_type": "stream",
     "text": [
      "\n"
     ]
    },
    {
     "name": "stderr",
     "output_type": "stream",
     "text": [
      "\u001b[32m\u001b[1m  No Changes\u001b[22m\u001b[39m to `C:\\Users\\parzy\\.julia\\environments\\v1.7\\Project.toml`\n",
      "\u001b[32m\u001b[1m  No Changes\u001b[22m\u001b[39m to `C:\\Users\\parzy\\.julia\\environments\\v1.7\\Manifest.toml`\n"
     ]
    },
    {
     "name": "stderr",
     "output_type": "stream",
     "text": [
      "\u001b[32m\u001b[1m   Resolving\u001b[22m\u001b[39m package versions...\n"
     ]
    },
    {
     "name": "stderr",
     "output_type": "stream",
     "text": [
      "\u001b[32m\u001b[1m  No Changes\u001b[22m\u001b[39m to `C:\\Users\\parzy\\.julia\\environments\\v1.7\\Project.toml`\n",
      "\u001b[32m\u001b[1m  No Changes\u001b[22m\u001b[39m to `C:\\Users\\parzy\\.julia\\environments\\v1.7\\Manifest.toml`"
     ]
    },
    {
     "name": "stderr",
     "output_type": "stream",
     "text": [
      "\n"
     ]
    },
    {
     "name": "stderr",
     "output_type": "stream",
     "text": [
      "\u001b[32m\u001b[1m   Resolving\u001b[22m\u001b[39m package versions...\n"
     ]
    },
    {
     "name": "stderr",
     "output_type": "stream",
     "text": [
      "\u001b[32m\u001b[1m  No Changes\u001b[22m\u001b[39m to `C:\\Users\\parzy\\.julia\\environments\\v1.7\\Project.toml`\n",
      "\u001b[32m\u001b[1m  No Changes\u001b[22m\u001b[39m to `C:\\Users\\parzy\\.julia\\environments\\v1.7\\Manifest.toml`"
     ]
    },
    {
     "name": "stderr",
     "output_type": "stream",
     "text": [
      "\n"
     ]
    },
    {
     "name": "stderr",
     "output_type": "stream",
     "text": [
      "\u001b[32m\u001b[1m   Resolving\u001b[22m\u001b[39m package versions...\n"
     ]
    },
    {
     "name": "stderr",
     "output_type": "stream",
     "text": [
      "\u001b[32m\u001b[1m  No Changes\u001b[22m\u001b[39m to `C:\\Users\\parzy\\.julia\\environments\\v1.7\\Project.toml`\n",
      "\u001b[32m\u001b[1m  No Changes\u001b[22m\u001b[39m to `C:\\Users\\parzy\\.julia\\environments\\v1.7\\Manifest.toml`\n"
     ]
    },
    {
     "name": "stderr",
     "output_type": "stream",
     "text": [
      "\u001b[32m\u001b[1m   Resolving\u001b[22m\u001b[39m package versions...\n"
     ]
    },
    {
     "name": "stderr",
     "output_type": "stream",
     "text": [
      "\u001b[32m\u001b[1m  No Changes\u001b[22m\u001b[39m to `C:\\Users\\parzy\\.julia\\environments\\v1.7\\Project.toml`\n",
      "\u001b[32m\u001b[1m  No Changes\u001b[22m\u001b[39m to `C:\\Users\\parzy\\.julia\\environments\\v1.7\\Manifest.toml`\n"
     ]
    },
    {
     "data": {
      "text/plain": [
       "\"\""
      ]
     },
     "metadata": {},
     "output_type": "display_data"
    }
   ],
   "source": [
    "Pkg.add(\"MLDatasets\")\n",
    "Pkg.add(\"IJulia\")\n",
    "Pkg.add(\"StableRNGs\")\n",
    "Pkg.add(\"DataFrames\")\n",
    "Pkg.add(\"PyPlot\")\n",
    "\n",
    "ENV[\"PYTHON\"] = \"\""
   ]
  },
  {
   "cell_type": "markdown",
   "metadata": {},
   "source": [
    "# Load Dataset"
   ]
  },
  {
   "cell_type": "code",
   "execution_count": 7,
   "metadata": {},
   "outputs": [
    {
     "data": {
      "text/plain": [
       "([-0.4275145876309958 -1.0397073145488935 … -1.284584405316053 1.2866250477391183; -1.2648671427817586 0.5749396103553435 … -0.11498792207106952 0.11498792207106849; 0.10064120238011458 -1.4017537805192064 … -1.4017537805192064 0.6207010041529566; 0.08842173269053696 -1.370536856703343 … -1.2379042576675354 0.3536869307621514], Bool[0 1 … 1 0; 1 0 … 0 1; 0 0 … 0 0], [1.7763792292734357 -0.4275145876309958 … -0.4275145876309958 -0.9172687691653144; -0.3449637662132075 2.6447222076345844 … 1.0348912986396195 1.7248188310660324; 1.4296829180218213 -1.4017537805192064 … -1.459538202938411 -1.2861849356807968; 0.7515847278695732 -1.370536856703343 … -1.370536856703343 -1.370536856703343], Bool[0 1 … 1 1; 0 0 … 0 0; 1 0 … 0 0], [\"setosa\", \"versicolor\", \"virginica\"])"
      ]
     },
     "execution_count": 7,
     "metadata": {},
     "output_type": "execute_result"
    }
   ],
   "source": [
    "include(\"utils/GlobalUsings.jl\")\n",
    "include(\"utils/DataLoader.jl\")\n",
    "include(\"Lib/CustomDiffLib.jl\")\n",
    "include(\"utils/NetFunctions.jl\")\n",
    "\n",
    "X_train, y_train, X_test, y_test, classes  = getPrepearedData()"
   ]
  },
  {
   "cell_type": "markdown",
   "metadata": {},
   "source": [
    "### Working net"
   ]
  },
  {
   "cell_type": "code",
   "execution_count": 168,
   "metadata": {},
   "outputs": [
    {
     "data": {
      "text/plain": [
       "train (generic function with 1 method)"
      ]
     },
     "metadata": {},
     "output_type": "display_data"
    }
   ],
   "source": [
    "Random.seed!(2)\n",
    "mean_squared_loss(y::BitVector, ŷ::Vector) = sum(0.5(y - ŷ) .^ 2)\n",
    "fullyconnected(w::Vector, n::Number, m::Number, v::Vector, activation::Function) = activation.(reshape(w, n, m) * v)\n",
    "σ(x) = one(x) / (one(x) + exp(-x))\n",
    "\n",
    "function foward(x, wh, wo, y)\n",
    "    x̂ = fullyconnected(wh, 4, 4, x, ReLU)\n",
    "    ŷ = fullyconnected(wo, 3, 4, x̂, σ)\n",
    "end\n",
    "\n",
    "function net(x, wh, wo, y)\n",
    "    x̂ = fullyconnected(wh, 4, 4, x, ReLU)\n",
    "    ŷ = fullyconnected(wo, 3, 4, x̂, σ)\n",
    "    E = mean_squared_loss(y, ŷ)\n",
    "end\n",
    "\n",
    "\n",
    "function train(epochs::Int, lr::Float64, X_data, y_data)\n",
    "    X_data = X_train\n",
    "    y_data = y_data\n",
    "    Wh, Wo, dWh, dWo = InitializeNet()\n",
    "    # Loss, accuracy tracking while net is training\n",
    "    Loss_history = Float64[]\n",
    "    Accuracy_history = Float64[]\n",
    "\n",
    "    for epoch = 1:epochs\n",
    "        epoch_L = []\n",
    "        for i in 1:size(X_train)[2]\n",
    "            x = X_train[:, i]\n",
    "            y = y_data[:, i]\n",
    "            L = net(x, Wh[:], Wo[:], y)\n",
    "            dnet_Wh(x, wh, wo, y) = J(w -> net(x, w, wo, y), wh)\n",
    "            dWh[:] = dnet_Wh(x, Wh[:], Wo[:], y)\n",
    "            dnet_Wo(x, wh, wo, y) = J(w -> net(x, wh, w, y), wo)\n",
    "            dWo[:] = dnet_Wo(x, Wh[:], Wo[:], y)\n",
    "            push!(epoch_L, L)\n",
    "            acc = foward(x, Wh[:], Wo[:], y)\n",
    "            Wh -= lr * Wh\n",
    "            Wo -= lr * dWo\n",
    "        end\n",
    "        push!(Loss_history, std(epoch_L))\n",
    "    end\n",
    "    return Loss_history,Accuracy_history\n",
    "end"
   ]
  }
 ],
 "metadata": {
  "kernelspec": {
   "display_name": "Julia 1.7.2",
   "language": "julia",
   "name": "julia-1.7"
  },
  "language_info": {
   "file_extension": ".jl",
   "mimetype": "application/julia",
   "name": "julia",
   "version": "1.7.2"
  },
  "orig_nbformat": 4
 },
 "nbformat": 4,
 "nbformat_minor": 2
}
