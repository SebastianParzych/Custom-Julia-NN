{
 "cells": [
  {
   "cell_type": "markdown",
   "metadata": {},
   "source": [
    "## Temat 1. Własna sieć neuronowa\n",
    "Celem projektu jest samodzielne zaimplementowanie prostej sieci neuronowej i przetestowanie jej na wybranym przez siebie przykładzie.\n",
    "\n",
    "Podstawowym założeniem projektu jest własnoręczne zaimplementowanie automatycznego różniczkowania w celu wyznaczania pochodnych warstw potrzebnych do wstecznej   propagacji błędów. Dopuszczalne jest wykorzystanie różniczkowanie w przód (ang. Forward Accumulation), różniczkowanie w tył (ang. Reverse Accumulation) oraz różniczkowanie oparte o generację kodu (ang. source-to-source differentiation).\n",
    "\n",
    "Do implementacji optymalizatorów dokonujących właściwego uczenia sieci można wykorzystać kod zamieszczony w książce \"Algorithms for Optimization\" [1].\n",
    "\n",
    "klasyfikacja cyfr (Digits MNIST dataset)  \n",
    "Bibliografia:  \n",
    "[1] Mykel J. Kochenderfer, Tim A. Wheeler, 2019, Algorithms for Optimization, MIT Press.  \n",
    "[2] Martin T. Hagan et. al, Neural Network Design, pp. 915-918, url: https://hagan.okstate.edu/NNDesign.pdf  \n",
    "[3] 3blue1brown: czym są sieci neuronowe? https://www.youtube.com/watch?v=aircAruvnKk  \n",
    "  \n"
   ]
  },
  {
   "cell_type": "code",
   "execution_count": 28,
   "metadata": {},
   "outputs": [],
   "source": [
    "using Pkg\n",
    "#Pkg.activate(\"./project\")"
   ]
  },
  {
   "cell_type": "code",
   "execution_count": 29,
   "metadata": {},
   "outputs": [
    {
     "name": "stderr",
     "output_type": "stream",
     "text": [
      "\u001b[32m\u001b[1m    Updating\u001b[22m\u001b[39m registry at `C:\\Users\\parzy\\.julia\\registries\\General.toml`\n"
     ]
    },
    {
     "name": "stderr",
     "output_type": "stream",
     "text": [
      "\u001b[32m\u001b[1m   Resolving\u001b[22m\u001b[39m package versions...\n"
     ]
    },
    {
     "name": "stderr",
     "output_type": "stream",
     "text": [
      "\u001b[32m\u001b[1m  No Changes\u001b[22m\u001b[39m to `C:\\Users\\parzy\\.julia\\environments\\v1.7\\Project.toml`\n",
      "\u001b[32m\u001b[1m  No Changes\u001b[22m\u001b[39m to `C:\\Users\\parzy\\.julia\\environments\\v1.7\\Manifest.toml`"
     ]
    },
    {
     "name": "stderr",
     "output_type": "stream",
     "text": [
      "\n"
     ]
    },
    {
     "name": "stderr",
     "output_type": "stream",
     "text": [
      "\u001b[32m\u001b[1m   Resolving\u001b[22m\u001b[39m package versions..."
     ]
    },
    {
     "name": "stderr",
     "output_type": "stream",
     "text": [
      "\n"
     ]
    },
    {
     "name": "stderr",
     "output_type": "stream",
     "text": [
      "\u001b[32m\u001b[1m  No Changes\u001b[22m\u001b[39m to `C:\\Users\\parzy\\.julia\\environments\\v1.7\\Project.toml`\n",
      "\u001b[32m\u001b[1m  No Changes\u001b[22m\u001b[39m to `C:\\Users\\parzy\\.julia\\environments\\v1.7\\Manifest.toml`"
     ]
    },
    {
     "name": "stderr",
     "output_type": "stream",
     "text": [
      "\n"
     ]
    },
    {
     "name": "stderr",
     "output_type": "stream",
     "text": [
      "\u001b[32m\u001b[1m   Resolving\u001b[22m\u001b[39m"
     ]
    },
    {
     "name": "stderr",
     "output_type": "stream",
     "text": [
      " package versions..."
     ]
    },
    {
     "name": "stderr",
     "output_type": "stream",
     "text": [
      "\n"
     ]
    },
    {
     "name": "stderr",
     "output_type": "stream",
     "text": [
      "\u001b[32m\u001b[1m  No Changes\u001b[22m\u001b[39m to `C:\\Users\\parzy\\.julia\\environments\\v1.7\\Project.toml`\n",
      "\u001b[32m\u001b[1m  No Changes\u001b[22m\u001b[39m to `C:\\Users\\parzy\\.julia\\environments\\v1.7\\Manifest.toml`\n"
     ]
    },
    {
     "name": "stderr",
     "output_type": "stream",
     "text": [
      "\u001b[32m\u001b[1m   Resolving\u001b[22m\u001b[39m package versions...\n"
     ]
    },
    {
     "name": "stderr",
     "output_type": "stream",
     "text": [
      "\u001b[32m\u001b[1m  No Changes\u001b[22m\u001b[39m to `C:\\Users\\parzy\\.julia\\environments\\v1.7\\Project.toml`\n",
      "\u001b[32m\u001b[1m  No Changes\u001b[22m\u001b[39m to `C:\\Users\\parzy\\.julia\\environments\\v1.7\\Manifest.toml`\n"
     ]
    },
    {
     "name": "stderr",
     "output_type": "stream",
     "text": [
      "\u001b[32m\u001b[1m   Resolving\u001b[22m\u001b[39m package versions...\n"
     ]
    },
    {
     "name": "stderr",
     "output_type": "stream",
     "text": [
      "\u001b[32m\u001b[1m  No Changes\u001b[22m\u001b[39m to `C:\\Users\\parzy\\.julia\\environments\\v1.7\\Project.toml`\n",
      "\u001b[32m\u001b[1m  No Changes\u001b[22m\u001b[39m to `C:\\Users\\parzy\\.julia\\environments\\v1.7\\Manifest.toml`"
     ]
    },
    {
     "name": "stderr",
     "output_type": "stream",
     "text": [
      "\n"
     ]
    },
    {
     "data": {
      "text/plain": [
       "\"\""
      ]
     },
     "metadata": {},
     "output_type": "display_data"
    }
   ],
   "source": [
    "Pkg.add(\"MLDatasets\")\n",
    "Pkg.add(\"IJulia\")\n",
    "Pkg.add(\"StableRNGs\")\n",
    "Pkg.add(\"DataFrames\")\n",
    "Pkg.add(\"PyPlot\")\n",
    "using Plots\n",
    "ENV[\"PYTHON\"] = \"\""
   ]
  },
  {
   "cell_type": "markdown",
   "metadata": {},
   "source": [
    "# Load Dataset"
   ]
  },
  {
   "cell_type": "code",
   "execution_count": 30,
   "metadata": {},
   "outputs": [],
   "source": [
    "using RDatasets\n",
    "using Random\n",
    "Random.seed!(1234)\n",
    "iris = dataset(\"datasets\", \"iris\")\n",
    "X = Matrix(iris[:, 1:4])\n",
    "y = iris.Species\n",
    "X_train, y_train, X_test, y_test, classes = prepare_data(X', y; dims=2)\n",
    "nothing"
   ]
  },
  {
   "cell_type": "code",
   "execution_count": 31,
   "metadata": {},
   "outputs": [],
   "source": []
  },
  {
   "cell_type": "markdown",
   "metadata": {},
   "source": [
    "###  Automatic differentation- foward accumulation"
   ]
  },
  {
   "cell_type": "code",
   "execution_count": 32,
   "metadata": {},
   "outputs": [],
   "source": [
    "# Dual number\n",
    "struct Dual{T <:Number} <:Number\n",
    "     v::T\n",
    "    dv::T\n",
    "end"
   ]
  },
  {
   "cell_type": "markdown",
   "metadata": {},
   "source": [
    "### Overloading functions and operators"
   ]
  },
  {
   "cell_type": "code",
   "execution_count": 33,
   "metadata": {},
   "outputs": [
    {
     "data": {
      "text/plain": [
       "log (generic function with 24 methods)"
      ]
     },
     "metadata": {},
     "output_type": "display_data"
    }
   ],
   "source": [
    "import Base: +, -, *, /\n",
    "-(x::Dual)          = Dual(-x.v,       -x.dv)\n",
    "+(x::Dual, y::Dual) = Dual( x.v + y.v,  x.dv + y.dv)\n",
    "-(x::Dual, y::Dual) = Dual( x.v - y.v,  x.dv - y.dv)\n",
    "*(x::Dual, y::Dual) = Dual( x.v * y.v,  x.dv * y.v + x.v * y.dv)\n",
    "/(x::Dual, y::Dual) = Dual( x.v / y.v, (x.dv * y.v - x.v * y.dv)/y.v^2)\n",
    "\n",
    "import Base: abs, sin, cos, tan, exp, sqrt, isless, log, max, min\n",
    "abs(x::Dual)  = Dual(abs(x.v),sign(x.v)*x.dv)\n",
    "sin(x::Dual)  = Dual(sin(x.v), cos(x.v)*x.dv)\n",
    "cos(x::Dual)  = Dual(cos(x.v),-sin(x.v)*x.dv)\n",
    "tan(x::Dual)  = Dual(tan(x.v), one(x.v)*x.dv + tan(x.v)^2*x.dv)\n",
    "exp(x::Dual)  = Dual(exp(x.v), exp(x.v)*x.dv)\n",
    "sqrt(x::Dual) = Dual(sqrt(x.v),.5/sqrt(x.v) * x.dv)\n",
    "isless(x::Dual, y::Dual) = x.v < y.v;\n",
    "max(x::Dual, y::Dual) =Dual(max(x.v , y.v),if x.v>y.v 1*x.dv  else 1*y.dv end); # what about dv\n",
    "min(x::Dual, y::Dual) =Dual(min(x.v , y.v),if x.v<y.v 1*x.dv  else 1*y.dv end); # what about dv\n",
    "log(x::Dual) = Dual(log(x.v), (1/abs(x.v))*x.dv) \n",
    "\n"
   ]
  },
  {
   "cell_type": "code",
   "execution_count": 34,
   "metadata": {},
   "outputs": [
    {
     "name": "stdout",
     "output_type": "stream",
     "text": [
      "Dual{Float64}[Dual(1, 2), Dual(3, 0)] = Dual{Float64}[Dual{Float64}(1.0, 2.0), Dual{Float64}(3.0, 0.0)]\n",
      "Dual{Float64}[1, 2, 3] = Dual{Float64}[Dual{Float64}(1.0, 0.0), Dual{Float64}(2.0, 0.0), Dual{Float64}(3.0, 0.0)]\n"
     ]
    },
    {
     "name": "stdout",
     "output_type": "stream",
     "text": [
      "Dual(1, 2) * 3 = Dual{Int64}(3, 6)\n"
     ]
    }
   ],
   "source": [
    "import Base: convert, promote_rule\n",
    "\n",
    "convert(::Type{Dual{T}}, x::Dual) where {T} = Dual(convert(T, x.v), convert(T, x.dv))\n",
    "@show Dual{Float64}[Dual(1, 2), Dual(3, 0)];\n",
    "convert(::Type{Dual{T}}, x::Number) where {T} = Dual(convert(T, x), zero(T))\n",
    "@show Dual{Float64}[1, 2, 3];\n",
    "promote_rule(::Type{Dual{T}}, ::Type{R}) where {T,R} = Dual{promote_type(T, R)}\n",
    "@show Dual(1, 2) * 3;\n",
    "\n",
    "import Base: show\n",
    "show(io::IO, x::Dual) = print(io, \"(\", x.v, \") + [\", x.dv, \"ϵ]\");\n",
    "value(x::Dual) = x.v;\n",
    "partials(x::Dual) = x.dv;\n",
    "nothing"
   ]
  },
  {
   "cell_type": "code",
   "execution_count": 35,
   "metadata": {},
   "outputs": [
    {
     "data": {
      "text/plain": [
       "derivative (generic function with 1 method)"
      ]
     },
     "metadata": {},
     "output_type": "display_data"
    }
   ],
   "source": [
    "D = derivative(f, x) = partials(f(Dual(x, one(x))))"
   ]
  },
  {
   "cell_type": "code",
   "execution_count": 36,
   "metadata": {},
   "outputs": [],
   "source": [
    "J = function jacobian(f, args::Vector{T}) where {T<:Number}\n",
    "    jacobian_columns = Matrix{T}[]\n",
    "\n",
    "    for i = 1:length(args)\n",
    "        x = Dual{T}[]\n",
    "        for j = 1:length(args)\n",
    "            seed = (i == j)\n",
    "            push!(x, seed ?\n",
    "                     Dual(args[j], one(args[j])) :\n",
    "                     Dual(args[j], zero(args[j])))\n",
    "        end\n",
    "        column = partials.([f(x)...])\n",
    "        push!(jacobian_columns, column[:, :])\n",
    "    end\n",
    "    hcat(jacobian_columns...)\n",
    "end\n",
    "nothing"
   ]
  },
  {
   "cell_type": "code",
   "execution_count": 37,
   "metadata": {},
   "outputs": [],
   "source": [
    "H = function hessian(f, args::Vector)\n",
    "    ∇f(x::Vector) = J(f, x)\n",
    "    J(∇f, args)\n",
    "end\n",
    "nothing"
   ]
  },
  {
   "cell_type": "code",
   "execution_count": 38,
   "metadata": {},
   "outputs": [],
   "source": [
    "import LinearAlgebra: diagm\n",
    "diagonal(m) = diagm(0 => vec(m))\n",
    "nothing"
   ]
  },
  {
   "cell_type": "markdown",
   "metadata": {},
   "source": [
    "### Activation functions"
   ]
  },
  {
   "cell_type": "code",
   "execution_count": 27,
   "metadata": {},
   "outputs": [
    {
     "ename": "ErrorException",
     "evalue": "error in method definition: function Base.tanh must be explicitly imported to be extended",
     "output_type": "error",
     "traceback": [
      "error in method definition: function Base.tanh must be explicitly imported to be extended\n",
      "\n",
      "Stacktrace:\n",
      "  [1] top-level scope\n",
      "    @ none:0\n",
      "  [2] top-level scope\n",
      "    @ e:\\Documents\\1. Studia\\MAGISTERSKIE\\Algorytmy w inż danych\\Custom-Julia-NN\\main.ipynb:8\n",
      "  [3] eval\n",
      "    @ .\\boot.jl:373 [inlined]\n",
      "  [4] include_string(mapexpr::typeof(REPL.softscope), mod::Module, code::String, filename::String)\n",
      "    @ Base .\\loading.jl:1196\n",
      "  [5] #invokelatest#2\n",
      "    @ .\\essentials.jl:716 [inlined]\n",
      "  [6] invokelatest\n",
      "    @ .\\essentials.jl:714 [inlined]\n",
      "  [7] (::VSCodeServer.var\"#164#165\"{VSCodeServer.NotebookRunCellArguments, String})()\n",
      "    @ VSCodeServer c:\\Users\\parzy\\.vscode\\extensions\\julialang.language-julia-1.6.24\\scripts\\packages\\VSCodeServer\\src\\serve_notebook.jl:19\n",
      "  [8] withpath(f::VSCodeServer.var\"#164#165\"{VSCodeServer.NotebookRunCellArguments, String}, path::String)\n",
      "    @ VSCodeServer c:\\Users\\parzy\\.vscode\\extensions\\julialang.language-julia-1.6.24\\scripts\\packages\\VSCodeServer\\src\\repl.jl:184\n",
      "  [9] notebook_runcell_request(conn::VSCodeServer.JSONRPC.JSONRPCEndpoint{Base.PipeEndpoint, Base.PipeEndpoint}, params::VSCodeServer.NotebookRunCellArguments)\n",
      "    @ VSCodeServer c:\\Users\\parzy\\.vscode\\extensions\\julialang.language-julia-1.6.24\\scripts\\packages\\VSCodeServer\\src\\serve_notebook.jl:13\n",
      " [10] dispatch_msg(x::VSCodeServer.JSONRPC.JSONRPCEndpoint{Base.PipeEndpoint, Base.PipeEndpoint}, dispatcher::VSCodeServer.JSONRPC.MsgDispatcher, msg::Dict{String, Any})\n",
      "    @ VSCodeServer.JSONRPC c:\\Users\\parzy\\.vscode\\extensions\\julialang.language-julia-1.6.24\\scripts\\packages\\JSONRPC\\src\\typed.jl:67\n",
      " [11] serve_notebook(pipename::String, outputchannel_logger::Base.CoreLogging.SimpleLogger; crashreporting_pipename::String)\n",
      "    @ VSCodeServer c:\\Users\\parzy\\.vscode\\extensions\\julialang.language-julia-1.6.24\\scripts\\packages\\VSCodeServer\\src\\serve_notebook.jl:136\n",
      " [12] top-level scope\n",
      "    @ c:\\Users\\parzy\\.vscode\\extensions\\julialang.language-julia-1.6.24\\scripts\\notebook\\notebook.jl:32\n",
      " [13] include(mod::Module, _path::String)\n",
      "    @ Base .\\Base.jl:418\n",
      " [14] exec_options(opts::Base.JLOptions)\n",
      "    @ Base .\\client.jl:292\n",
      " [15] _start()\n",
      "    @ Base .\\client.jl:495"
     ]
    }
   ],
   "source": [
    "softmax(x) = exp.(x) ./ sum(exp.(x));\n",
    "dsoftmax(x) = (softmax(x) |> diagonal) .- softmax(x) * (softmax(x) |> transpose);\n",
    "\n",
    "ReLU(x) = max(zero(x), x)\n",
    "identityFunction(x) = x\n",
    "\n",
    "σ(x) = one(x) / (one(x) + exp(-x))\n",
    "tanh(x) = 2.0 / (one(x) + exp(-2.0x)) - one(x)\n",
    "nothing"
   ]
  },
  {
   "cell_type": "markdown",
   "metadata": {},
   "source": [
    "### Cost functions"
   ]
  },
  {
   "cell_type": "code",
   "execution_count": 15,
   "metadata": {},
   "outputs": [
    {
     "data": {
      "text/plain": [
       "binary_cross_entropy (generic function with 1 method)"
      ]
     },
     "metadata": {},
     "output_type": "display_data"
    }
   ],
   "source": [
    "mean_squared_loss(y::Vector, ŷ::Vector) = sum(0.5(y - ŷ) .^ 2)\n",
    "\n",
    "function binary_cross_entropy(y::Vector, ŷ::Vector)\n",
    "    epsilon = eps(1.0)\n",
    "    ## Avoding 0 , 1 in log argument\n",
    "    ŷ = [max(i, epsilon) for i in ŷ]\n",
    "    ŷ = [min(i, 1 - epsilon) for i in ŷ]\n",
    "    return -sum(y .* log.(ŷ) + (1 .- y) .* log.(1 .- ŷ)) / length(y)\n",
    "end\n",
    "nothing"
   ]
  },
  {
   "cell_type": "code",
   "execution_count": 132,
   "metadata": {},
   "outputs": [
    {
     "data": {
      "text/plain": [
       "NeuralNetwork (generic function with 1 method)"
      ]
     },
     "metadata": {},
     "output_type": "display_data"
    }
   ],
   "source": [
    "mutable struct Layer\n",
    "    m::Int\n",
    "    n::Int\n",
    "    activation::Function\n",
    "    W::Matrix\n",
    "    dW::Matrix\n",
    "end\n",
    "mutable struct GenLayer\n",
    "    m:: Int\n",
    "    n:: Int\n",
    "    activation :: Function\n",
    "end\n",
    "\n",
    "function NeuralNetwork()\n",
    "    layers = []\n",
    "    function Chain(initLayers::Vector{GenLayer})\n",
    "        for layer in initLayers\n",
    "            push!(layers, Layer(layer.m, layer.n, layer.activation,\n",
    "                randn(layer.n, layer.m), randn(layer.n, layer.m)))\n",
    "        end\n",
    "    end\n",
    "    () -> (Chain, layers)\n",
    "end"
   ]
  },
  {
   "cell_type": "code",
   "execution_count": 133,
   "metadata": {},
   "outputs": [
    {
     "data": {
      "text/plain": [
       "Update (generic function with 1 method)"
      ]
     },
     "metadata": {},
     "output_type": "display_data"
    }
   ],
   "source": [
    "mean_squared_loss(y::BitVector, ŷ::Vector) = sum(0.5(y - ŷ) .^ 2)\n",
    "\n",
    "FowardWithLoss(net, x, y) =\n",
    "    let\n",
    "        for i = 1:(size(net.layers)[1])\n",
    "            x = net.layers[i].activation.(reshape(net.layers[i].W, net.layers[i].n, net.layers[i].m) * x)\n",
    "        end\n",
    "        E = mean_squared_loss(y, x)\n",
    "        return E\n",
    "    end\n",
    "\n",
    "Foward(net, x, y) =\n",
    "    let\n",
    "        for i = 1:(size(net.layers)[1])\n",
    "            x = net.layers[i].activation.(reshape(net.layers[i].W, net.layers[i].n, net.layers[i].m) * x)\n",
    "        end\n",
    "    end\n",
    "\n",
    "Backward(net, x, y, w, j) =\n",
    "    let\n",
    "        tmp = randn(net.layers[j].n, net.layers[j].m)\n",
    "        tmp[:, :] = net.layers[j].W\n",
    "        net.layers[j].W = w[:, :]\n",
    "        for i = 1:(size(net.layers)[1])\n",
    "            x = net.layers[i].activation.(reshape(net.layers[i].W, net.layers[i].n, net.layers[i].m) * x)\n",
    "        end\n",
    "        net.layers[j].W = tmp[:, :]\n",
    "\n",
    "        E = mean_squared_loss(y, x)\n",
    "\n",
    "        return E\n",
    "    end\n",
    "\n",
    "Backpropagation(net, x, y) =\n",
    "    let\n",
    "        for i = 1:(size(net.layers)[1])\n",
    "            net.layers[i].dW[:] = J(w -> Backward(net, x, y, w, i), net.layers[i].dW[:])\n",
    "        end\n",
    "    end\n",
    "\n",
    "Update(net, lr::Float64) =\n",
    "    let\n",
    "        for i = 1:(size(net.layers)[1])\n",
    "            net.layers[i].W -= lr * net.layers[i].dW\n",
    "        end\n",
    "    end\n"
   ]
  },
  {
   "cell_type": "code",
   "execution_count": 165,
   "metadata": {},
   "outputs": [
    {
     "data": {
      "text/plain": [
       "train (generic function with 1 method)"
      ]
     },
     "metadata": {},
     "output_type": "display_data"
    }
   ],
   "source": [
    " function train(net, X_data, Y_data, α::Float64)\n",
    "            Loss_history = Float64[]\n",
    "            for j = 1:10\n",
    "                epoch_L = []\n",
    "                for i = 1:(length(X_data[2]))\n",
    "                    x = X_train[:, i]\n",
    "                    y = Y_data[:, i]\n",
    "                    Ei = FowardWithLoss(net, x, y)\n",
    "                    println(Ei)\n",
    "                    push!(epoch_L, Ei)\n",
    "                    Backpropagation(net, x, y)\n",
    "                    Update(net, α)\n",
    "                end\n",
    "                \n",
    "                push!(Loss_history, std(epoch_L))\n",
    "            end\n",
    "            return Loss_history\n",
    "        end"
   ]
  },
  {
   "cell_type": "code",
   "execution_count": 166,
   "metadata": {},
   "outputs": [
    {
     "name": "stdout",
     "output_type": "stream",
     "text": [
      "1.0\n",
      "1.0\n",
      "1.0\n",
      "1.0\n",
      "1.0\n",
      "1.0\n",
      "1.0\n",
      "1.0\n",
      "1.0\n",
      "1.0\n"
     ]
    },
    {
     "data": {
      "text/plain": [
       "10-element Vector{Float64}:\n",
       " NaN\n",
       " NaN\n",
       " NaN\n",
       " NaN\n",
       " NaN\n",
       " NaN\n",
       " NaN\n",
       " NaN\n",
       " NaN\n",
       " NaN"
      ]
     },
     "metadata": {},
     "output_type": "display_data"
    }
   ],
   "source": [
    "net = NeuralNetwork()\n",
    "net.Chain([GenLayer(4, 3, ReLU),GenLayer(3, 3, softmax)])\n",
    "nothing\n",
    "history = train(net, X_train, y_train, 0.01)"
   ]
  },
  {
   "cell_type": "markdown",
   "metadata": {},
   "source": [
    "### Working net"
   ]
  },
  {
   "cell_type": "code",
   "execution_count": 17,
   "metadata": {},
   "outputs": [
    {
     "data": {
      "text/plain": [
       "train (generic function with 1 method)"
      ]
     },
     "metadata": {},
     "output_type": "display_data"
    }
   ],
   "source": [
    "mean_squared_loss(y::BitVector, ŷ::Vector) = sum(0.5(y - ŷ) .^ 2)\n",
    "fullyconnected(w::Vector, n::Number, m::Number, v::Vector, activation::Function) = activation.(reshape(w, n, m) * v)\n",
    "σ(x) = one(x) / (one(x) + exp(-x))\n",
    "\n",
    "\n",
    "\n",
    "\n",
    "function foward(x, wh, wo, y)\n",
    "    x̂ = fullyconnected(wh, 4, 4, x, σ)\n",
    "    ŷ = fullyconnected(wo, 3, 4, x̂, u -> u)\n",
    "end\n",
    "\n",
    "function net(x, wh, wo, y)\n",
    "    x̂ = fullyconnected(wh, 4, 4, x, ReLU)\n",
    "    ŷ = fullyconnected(wo, 3, 4, x̂, u -> u)\n",
    "    E = mean_squared_loss(y, ŷ)\n",
    "end\n",
    "InitializeNet() = randn(4, 4), randn(3, 4), randn(4, 4), similar(Wo)\n",
    "function train(epochs::Int, lr::Float64, X_data, y_data)\n",
    "\n",
    "    X_data = X_train\n",
    "    y_data = y_data\n",
    "    Wh, Wo, dWh, dWo = InitializeNet()\n",
    "    Loss_history = Float64[]\n",
    "    Accuracy_history = float64[]\n",
    "    for epoch = 1:epochs\n",
    "        epoch_L = []\n",
    "        for i in 1:size(X_train)[2]\n",
    "            x = X_train[:, i]\n",
    "            y = y_data[:, i]\n",
    "            L = net(x, Wh[:], Wo[:], y)\n",
    "            dnet_Wh(x, wh, wo, y) = J(w -> net(x, w, wo, y), wh)\n",
    "            dWh[:] = dnet_Wh(x, Wh[:], Wo[:], y)\n",
    "            dnet_Wo(x, wh, wo, y) = J(w -> net(x, wh, w, y), wo)\n",
    "            dWo[:] = dnet_Wo(x, Wh[:], Wo[:], y)\n",
    "            #push!(Loss_history, L)\n",
    "            push!(epoch_L, L)\n",
    "            acc = foward(x, Wh[:], Wo[:], y)\n",
    "            Wh -= lr * Wh\n",
    "            Wo -= lr * dWo\n",
    "        end\n",
    "        push!(Loss_history, std(epoch_L))\n",
    "    end\n",
    "    return Loss_history\n",
    "end"
   ]
  },
  {
   "cell_type": "code",
   "execution_count": 18,
   "metadata": {},
   "outputs": [
    {
     "data": {
      "text/plain": [
       "10-element Vector{Float64}:\n",
       " 3.54015402490495\n",
       " 0.1592883356880834\n",
       " 0.07376307301149822\n",
       " 0.026217981609359578\n",
       " 0.008294790540257065\n",
       " 0.0025256200974962694\n",
       " 0.0007599818058439915\n",
       " 0.00022787151455926338\n",
       " 6.825149132394096e-5\n",
       " 2.0435958445407685e-5"
      ]
     },
     "metadata": {},
     "output_type": "display_data"
    }
   ],
   "source": [
    "#X_train, y_train, X_test, y_test, classes\n",
    "history = train(10, 0.01, X_train, y_train)\n",
    "\n",
    "p1 = plot(history, xlabel=\"Iteration\", ylabel=\"Loss function\", label=\"\")\n",
    "p2 = plot(acc_test, xlabel=\"Iteration\", ylabel=\"Test accuracy\", label=\"\", ylim=(-0.01, 1.01))\n",
    "plot(p1, p2, layout=(2, 1))"
   ]
  },
  {
   "cell_type": "markdown",
   "metadata": {},
   "source": [
    "## Plots"
   ]
  },
  {
   "cell_type": "code",
   "execution_count": 19,
   "metadata": {},
   "outputs": [
    {
     "name": "stdout",
     "output_type": "stream",
     "text": [
      "Plots.plot(history) = Plot{Plots.GRBackend() n=1}\n"
     ]
    },
    {
     "data": {
      "image/png": "[encoded data removed]",
      "image/svg+xml": "<?xml version=\"1.0\" encoding=\"utf-8\"?>\n<svg xmlns=\"http://www.w3.org/2000/svg\" xmlns:xlink=\"http://www.w3.org/1999/xlink\" width=\"600\" height=\"400\" viewBox=\"0 0 2400 1600\">\n<defs>\n  <clipPath id=\"clip710\">\n    <rect x=\"0\" y=\"0\" width=\"2400\" height=\"1600\"/>\n  </clipPath>\n</defs>\n<path clip-path=\"url(#clip710)\" d=\"\nM0 1600 L2400 1600 L2400 0 L0 0  Z\n  \" fill=\"#ffffff\" fill-rule=\"evenodd\" fill-opacity=\"1\"/>\n<defs>\n  <clipPath id=\"clip711\">\n    <rect x=\"480\" y=\"0\" width=\"1681\" height=\"1600\"/>\n  </clipPath>\n</defs>\n<path clip-path=\"url(#clip710)\" d=\"\nM110.881 1486.45 L2352.76 1486.45 L2352.76 47.2441 L110.881 47.2441  Z\n  \" fill=\"#ffffff\" fill-rule=\"evenodd\" fill-opacity=\"1\"/>\n<defs>\n  <clipPath id=\"clip712\">\n    <rect x=\"110\" y=\"47\" width=\"2243\" height=\"1440\"/>\n  </clipPath>\n</defs>\n<polyline clip-path=\"url(#clip712)\" style=\"stroke:#000000; stroke-linecap:butt; stroke-linejoin:round; stroke-width:2; stroke-opacity:0.1; fill:none\" points=\"\n  409.328,1486.45 409.328,47.2441 \n  \"/>\n<polyline clip-path=\"url(#clip712)\" style=\"stroke:#000000; stroke-linecap:butt; stroke-linejoin:round; stroke-width:2; stroke-opacity:0.1; fill:none\" points=\"\n  879.322,1486.45 879.322,47.2441 \n  \"/>\n<polyline clip-path=\"url(#clip712)\" style=\"stroke:#000000; stroke-linecap:butt; stroke-linejoin:round; stroke-width:2; stroke-opacity:0.1; fill:none\" points=\"\n  1349.32,1486.45 1349.32,47.2441 \n  \"/>\n<polyline clip-path=\"url(#clip712)\" style=\"stroke:#000000; stroke-linecap:butt; stroke-linejoin:round; stroke-width:2; stroke-opacity:0.1; fill:none\" points=\"\n  1819.31,1486.45 1819.31,47.2441 \n  \"/>\n<polyline clip-path=\"url(#clip712)\" style=\"stroke:#000000; stroke-linecap:butt; stroke-linejoin:round; stroke-width:2; stroke-opacity:0.1; fill:none\" points=\"\n  2289.31,1486.45 2289.31,47.2441 \n  \"/>\n<polyline clip-path=\"url(#clip710)\" style=\"stroke:#000000; stroke-linecap:butt; stroke-linejoin:round; stroke-width:4; stroke-opacity:1; fill:none\" points=\"\n  110.881,1486.45 2352.76,1486.45 \n  \"/>\n<polyline clip-path=\"url(#clip710)\" style=\"stroke:#000000; stroke-linecap:butt; stroke-linejoin:round; stroke-width:4; stroke-opacity:1; fill:none\" points=\"\n  409.328,1486.45 409.328,1467.55 \n  \"/>\n<polyline clip-path=\"url(#clip710)\" style=\"stroke:#000000; stroke-linecap:butt; stroke-linejoin:round; stroke-width:4; stroke-opacity:1; fill:none\" points=\"\n  879.322,1486.45 879.322,1467.55 \n  \"/>\n<polyline clip-path=\"url(#clip710)\" style=\"stroke:#000000; stroke-linecap:butt; stroke-linejoin:round; stroke-width:4; stroke-opacity:1; fill:none\" points=\"\n  1349.32,1486.45 1349.32,1467.55 \n  \"/>\n<polyline clip-path=\"url(#clip710)\" style=\"stroke:#000000; stroke-linecap:butt; stroke-linejoin:round; stroke-width:4; stroke-opacity:1; fill:none\" points=\"\n  1819.31,1486.45 1819.31,1467.55 \n  \"/>\n<polyline clip-path=\"url(#clip710)\" style=\"stroke:#000000; stroke-linecap:butt; stroke-linejoin:round; stroke-width:4; stroke-opacity:1; fill:none\" points=\"\n  2289.31,1486.45 2289.31,1467.55 \n  \"/>\n<path clip-path=\"url(#clip710)\" d=\"M403.98 1544.91 L420.3 1544.91 L420.3 1548.85 L398.355 1548.85 L398.355 1544.91 Q401.017 1542.16 405.601 1537.53 Q410.207 1532.88 411.388 1531.53 Q413.633 1529.01 414.513 1527.27 Q415.415 1525.51 415.415 1523.82 Q415.415 1521.07 413.471 1519.33 Q411.55 1517.6 408.448 1517.6 Q406.249 1517.6 403.795 1518.36 Q401.365 1519.13 398.587 1520.68 L398.587 1515.95 Q401.411 1514.82 403.865 1514.24 Q406.318 1513.66 408.355 1513.66 Q413.726 1513.66 416.92 1516.35 Q420.115 1519.03 420.115 1523.52 Q420.115 1525.65 419.304 1527.57 Q418.517 1529.47 416.411 1532.07 Q415.832 1532.74 412.73 1535.95 Q409.628 1539.15 403.98 1544.91 Z\" fill=\"#000000\" fill-rule=\"evenodd\" fill-opacity=\"1\" /><path clip-path=\"url(#clip710)\" d=\"M882.332 1518.36 L870.526 1536.81 L882.332 1536.81 L882.332 1518.36 M881.105 1514.29 L886.984 1514.29 L886.984 1536.81 L891.915 1536.81 L891.915 1540.7 L886.984 1540.7 L886.984 1548.85 L882.332 1548.85 L882.332 1540.7 L866.73 1540.7 L866.73 1536.19 L881.105 1514.29 Z\" fill=\"#000000\" fill-rule=\"evenodd\" fill-opacity=\"1\" /><path clip-path=\"url(#clip710)\" d=\"M1349.72 1529.7 Q1346.57 1529.7 1344.72 1531.86 Q1342.89 1534.01 1342.89 1537.76 Q1342.89 1541.49 1344.72 1543.66 Q1346.57 1545.82 1349.72 1545.82 Q1352.87 1545.82 1354.7 1543.66 Q1356.55 1541.49 1356.55 1537.76 Q1356.55 1534.01 1354.7 1531.86 Q1352.87 1529.7 1349.72 1529.7 M1359 1515.05 L1359 1519.31 Q1357.25 1518.48 1355.44 1518.04 Q1353.66 1517.6 1351.9 1517.6 Q1347.27 1517.6 1344.81 1520.72 Q1342.38 1523.85 1342.04 1530.17 Q1343.4 1528.15 1345.46 1527.09 Q1347.52 1526 1350 1526 Q1355.21 1526 1358.22 1529.17 Q1361.25 1532.32 1361.25 1537.76 Q1361.25 1543.08 1358.1 1546.3 Q1354.95 1549.52 1349.72 1549.52 Q1343.73 1549.52 1340.56 1544.94 Q1337.38 1540.33 1337.38 1531.6 Q1337.38 1523.41 1341.27 1518.55 Q1345.16 1513.66 1351.71 1513.66 Q1353.47 1513.66 1355.25 1514.01 Q1357.06 1514.36 1359 1515.05 Z\" fill=\"#000000\" fill-rule=\"evenodd\" fill-opacity=\"1\" /><path clip-path=\"url(#clip710)\" d=\"M1819.31 1532.44 Q1815.98 1532.44 1814.06 1534.22 Q1812.16 1536 1812.16 1539.13 Q1812.16 1542.25 1814.06 1544.03 Q1815.98 1545.82 1819.31 1545.82 Q1822.65 1545.82 1824.57 1544.03 Q1826.49 1542.23 1826.49 1539.13 Q1826.49 1536 1824.57 1534.22 Q1822.67 1532.44 1819.31 1532.44 M1814.64 1530.45 Q1811.63 1529.7 1809.94 1527.64 Q1808.27 1525.58 1808.27 1522.62 Q1808.27 1518.48 1811.21 1516.07 Q1814.17 1513.66 1819.31 1513.66 Q1824.47 1513.66 1827.41 1516.07 Q1830.35 1518.48 1830.35 1522.62 Q1830.35 1525.58 1828.66 1527.64 Q1827 1529.7 1824.01 1530.45 Q1827.39 1531.23 1829.27 1533.52 Q1831.16 1535.82 1831.16 1539.13 Q1831.16 1544.15 1828.08 1546.83 Q1825.03 1549.52 1819.31 1549.52 Q1813.59 1549.52 1810.52 1546.83 Q1807.46 1544.15 1807.46 1539.13 Q1807.46 1535.82 1809.36 1533.52 Q1811.26 1531.23 1814.64 1530.45 M1812.92 1523.06 Q1812.92 1525.75 1814.59 1527.25 Q1816.28 1528.76 1819.31 1528.76 Q1822.32 1528.76 1824.01 1527.25 Q1825.72 1525.75 1825.72 1523.06 Q1825.72 1520.38 1824.01 1518.87 Q1822.32 1517.37 1819.31 1517.37 Q1816.28 1517.37 1814.59 1518.87 Q1812.92 1520.38 1812.92 1523.06 Z\" fill=\"#000000\" fill-rule=\"evenodd\" fill-opacity=\"1\" /><path clip-path=\"url(#clip710)\" d=\"M2263.99 1544.91 L2271.63 1544.91 L2271.63 1518.55 L2263.32 1520.21 L2263.32 1515.95 L2271.59 1514.29 L2276.26 1514.29 L2276.26 1544.91 L2283.9 1544.91 L2283.9 1548.85 L2263.99 1548.85 L2263.99 1544.91 Z\" fill=\"#000000\" fill-rule=\"evenodd\" fill-opacity=\"1\" /><path clip-path=\"url(#clip710)\" d=\"M2303.35 1517.37 Q2299.73 1517.37 2297.91 1520.93 Q2296.1 1524.47 2296.1 1531.6 Q2296.1 1538.71 2297.91 1542.27 Q2299.73 1545.82 2303.35 1545.82 Q2306.98 1545.82 2308.79 1542.27 Q2310.61 1538.71 2310.61 1531.6 Q2310.61 1524.47 2308.79 1520.93 Q2306.98 1517.37 2303.35 1517.37 M2303.35 1513.66 Q2309.16 1513.66 2312.21 1518.27 Q2315.29 1522.85 2315.29 1531.6 Q2315.29 1540.33 2312.21 1544.94 Q2309.16 1549.52 2303.35 1549.52 Q2297.54 1549.52 2294.46 1544.94 Q2291.4 1540.33 2291.4 1531.6 Q2291.4 1522.85 2294.46 1518.27 Q2297.54 1513.66 2303.35 1513.66 Z\" fill=\"#000000\" fill-rule=\"evenodd\" fill-opacity=\"1\" /><polyline clip-path=\"url(#clip712)\" style=\"stroke:#000000; stroke-linecap:butt; stroke-linejoin:round; stroke-width:2; stroke-opacity:0.1; fill:none\" points=\"\n  110.881,1445.72 2352.76,1445.72 \n  \"/>\n<polyline clip-path=\"url(#clip712)\" style=\"stroke:#000000; stroke-linecap:butt; stroke-linejoin:round; stroke-width:2; stroke-opacity:0.1; fill:none\" points=\"\n  110.881,1062.2 2352.76,1062.2 \n  \"/>\n<polyline clip-path=\"url(#clip712)\" style=\"stroke:#000000; stroke-linecap:butt; stroke-linejoin:round; stroke-width:2; stroke-opacity:0.1; fill:none\" points=\"\n  110.881,678.668 2352.76,678.668 \n  \"/>\n<polyline clip-path=\"url(#clip712)\" style=\"stroke:#000000; stroke-linecap:butt; stroke-linejoin:round; stroke-width:2; stroke-opacity:0.1; fill:none\" points=\"\n  110.881,295.14 2352.76,295.14 \n  \"/>\n<polyline clip-path=\"url(#clip710)\" style=\"stroke:#000000; stroke-linecap:butt; stroke-linejoin:round; stroke-width:4; stroke-opacity:1; fill:none\" points=\"\n  110.881,1486.45 110.881,47.2441 \n  \"/>\n<polyline clip-path=\"url(#clip710)\" style=\"stroke:#000000; stroke-linecap:butt; stroke-linejoin:round; stroke-width:4; stroke-opacity:1; fill:none\" points=\"\n  110.881,1445.72 129.779,1445.72 \n  \"/>\n<polyline clip-path=\"url(#clip710)\" style=\"stroke:#000000; stroke-linecap:butt; stroke-linejoin:round; stroke-width:4; stroke-opacity:1; fill:none\" points=\"\n  110.881,1062.2 129.779,1062.2 \n  \"/>\n<polyline clip-path=\"url(#clip710)\" style=\"stroke:#000000; stroke-linecap:butt; stroke-linejoin:round; stroke-width:4; stroke-opacity:1; fill:none\" points=\"\n  110.881,678.668 129.779,678.668 \n  \"/>\n<polyline clip-path=\"url(#clip710)\" style=\"stroke:#000000; stroke-linecap:butt; stroke-linejoin:round; stroke-width:4; stroke-opacity:1; fill:none\" points=\"\n  110.881,295.14 129.779,295.14 \n  \"/>\n<path clip-path=\"url(#clip710)\" d=\"M62.9365 1431.52 Q59.3254 1431.52 57.4967 1435.09 Q55.6912 1438.63 55.6912 1445.76 Q55.6912 1452.86 57.4967 1456.43 Q59.3254 1459.97 62.9365 1459.97 Q66.5707 1459.97 68.3763 1456.43 Q70.205 1452.86 70.205 1445.76 Q70.205 1438.63 68.3763 1435.09 Q66.5707 1431.52 62.9365 1431.52 M62.9365 1427.82 Q68.7467 1427.82 71.8022 1432.42 Q74.8809 1437.01 74.8809 1445.76 Q74.8809 1454.49 71.8022 1459.09 Q68.7467 1463.67 62.9365 1463.67 Q57.1264 1463.67 54.0477 1459.09 Q50.9921 1454.49 50.9921 1445.76 Q50.9921 1437.01 54.0477 1432.42 Q57.1264 1427.82 62.9365 1427.82 Z\" fill=\"#000000\" fill-rule=\"evenodd\" fill-opacity=\"1\" /><path clip-path=\"url(#clip710)\" d=\"M54.9736 1075.54 L62.6124 1075.54 L62.6124 1049.18 L54.3023 1050.84 L54.3023 1046.58 L62.5661 1044.92 L67.242 1044.92 L67.242 1075.54 L74.8809 1075.54 L74.8809 1079.48 L54.9736 1079.48 L54.9736 1075.54 Z\" fill=\"#000000\" fill-rule=\"evenodd\" fill-opacity=\"1\" /><path clip-path=\"url(#clip710)\" d=\"M58.5615 692.013 L74.8809 692.013 L74.8809 695.948 L52.9366 695.948 L52.9366 692.013 Q55.5986 689.258 60.1819 684.629 Q64.7883 679.976 65.9689 678.633 Q68.2143 676.11 69.0939 674.374 Q69.9967 672.615 69.9967 670.925 Q69.9967 668.17 68.0522 666.434 Q66.1309 664.698 63.0291 664.698 Q60.83 664.698 58.3763 665.462 Q55.9458 666.226 53.168 667.777 L53.168 663.055 Q55.9921 661.92 58.4458 661.342 Q60.8995 660.763 62.9365 660.763 Q68.3068 660.763 71.5013 663.448 Q74.6957 666.133 74.6957 670.624 Q74.6957 672.754 73.8855 674.675 Q73.0985 676.573 70.992 679.166 Q70.4133 679.837 67.3115 683.055 Q64.2096 686.249 58.5615 692.013 Z\" fill=\"#000000\" fill-rule=\"evenodd\" fill-opacity=\"1\" /><path clip-path=\"url(#clip710)\" d=\"M67.7513 293.786 Q71.1078 294.504 72.9827 296.772 Q74.8809 299.041 74.8809 302.374 Q74.8809 307.49 71.3624 310.291 Q67.8439 313.092 61.3624 313.092 Q59.1865 313.092 56.8717 312.652 Q54.5801 312.235 52.1264 311.379 L52.1264 306.865 Q54.0708 307.999 56.3856 308.578 Q58.7004 309.156 61.2236 309.156 Q65.6217 309.156 67.9133 307.42 Q70.2281 305.684 70.2281 302.374 Q70.2281 299.319 68.0754 297.606 Q65.9457 295.869 62.1263 295.869 L58.0986 295.869 L58.0986 292.027 L62.3115 292.027 Q65.7606 292.027 67.5893 290.661 Q69.418 289.272 69.418 286.68 Q69.418 284.018 67.5198 282.606 Q65.6448 281.17 62.1263 281.17 Q60.205 281.17 58.006 281.587 Q55.8069 282.004 53.168 282.883 L53.168 278.717 Q55.8301 277.976 58.1449 277.606 Q60.4828 277.235 62.543 277.235 Q67.867 277.235 70.9689 279.666 Q74.0707 282.073 74.0707 286.194 Q74.0707 289.064 72.4272 291.055 Q70.7837 293.022 67.7513 293.786 Z\" fill=\"#000000\" fill-rule=\"evenodd\" fill-opacity=\"1\" /><polyline clip-path=\"url(#clip712)\" style=\"stroke:#009af9; stroke-linecap:butt; stroke-linejoin:round; stroke-width:4; stroke-opacity:1; fill:none\" points=\"\n  174.33,87.9763 409.328,1384.63 644.325,1417.43 879.322,1435.67 1114.32,1442.54 1349.32,1444.75 1584.31,1445.43 1819.31,1445.64 2054.31,1445.7 2289.31,1445.72 \n  \n  \"/>\n<path clip-path=\"url(#clip710)\" d=\"\nM1976.5 198.898 L2278.03 198.898 L2278.03 95.2176 L1976.5 95.2176  Z\n  \" fill=\"#ffffff\" fill-rule=\"evenodd\" fill-opacity=\"1\"/>\n<polyline clip-path=\"url(#clip710)\" style=\"stroke:#000000; stroke-linecap:butt; stroke-linejoin:round; stroke-width:4; stroke-opacity:1; fill:none\" points=\"\n  1976.5,198.898 2278.03,198.898 2278.03,95.2176 1976.5,95.2176 1976.5,198.898 \n  \"/>\n<polyline clip-path=\"url(#clip710)\" style=\"stroke:#009af9; stroke-linecap:butt; stroke-linejoin:round; stroke-width:4; stroke-opacity:1; fill:none\" points=\"\n  2001.41,147.058 2150.87,147.058 \n  \"/>\n<path clip-path=\"url(#clip710)\" d=\"M2189.62 166.745 Q2187.81 171.375 2186.1 172.787 Q2184.39 174.199 2181.52 174.199 L2178.11 174.199 L2178.11 170.634 L2180.61 170.634 Q2182.37 170.634 2183.35 169.8 Q2184.32 168.967 2185.5 165.865 L2186.26 163.921 L2175.78 138.412 L2180.29 138.412 L2188.39 158.689 L2196.49 138.412 L2201.01 138.412 L2189.62 166.745 Z\" fill=\"#000000\" fill-rule=\"evenodd\" fill-opacity=\"1\" /><path clip-path=\"url(#clip710)\" d=\"M2208.3 160.402 L2215.94 160.402 L2215.94 134.037 L2207.63 135.703 L2207.63 131.444 L2215.89 129.778 L2220.57 129.778 L2220.57 160.402 L2228.21 160.402 L2228.21 164.338 L2208.3 164.338 L2208.3 160.402 Z\" fill=\"#000000\" fill-rule=\"evenodd\" fill-opacity=\"1\" /></svg>\n",
      "text/html": [
       "<?xml version=\"1.0\" encoding=\"utf-8\"?>\n",
       "<svg xmlns=\"http://www.w3.org/2000/svg\" xmlns:xlink=\"http://www.w3.org/1999/xlink\" width=\"600\" height=\"400\" viewBox=\"0 0 2400 1600\">\n",
       "<defs>\n",
       "  <clipPath id=\"clip760\">\n",
       "    <rect x=\"0\" y=\"0\" width=\"2400\" height=\"1600\"/>\n",
       "  </clipPath>\n",
       "</defs>\n",
       "<path clip-path=\"url(#clip760)\" d=\"\n",
       "M0 1600 L2400 1600 L2400 0 L0 0  Z\n",
       "  \" fill=\"#ffffff\" fill-rule=\"evenodd\" fill-opacity=\"1\"/>\n",
       "<defs>\n",
       "  <clipPath id=\"clip761\">\n",
       "    <rect x=\"480\" y=\"0\" width=\"1681\" height=\"1600\"/>\n",
       "  </clipPath>\n",
       "</defs>\n",
       "<path clip-path=\"url(#clip760)\" d=\"\n",
       "M110.881 1486.45 L2352.76 1486.45 L2352.76 47.2441 L110.881 47.2441  Z\n",
       "  \" fill=\"#ffffff\" fill-rule=\"evenodd\" fill-opacity=\"1\"/>\n",
       "<defs>\n",
       "  <clipPath id=\"clip762\">\n",
       "    <rect x=\"110\" y=\"47\" width=\"2243\" height=\"1440\"/>\n",
       "  </clipPath>\n",
       "</defs>\n",
       "<polyline clip-path=\"url(#clip762)\" style=\"stroke:#000000; stroke-linecap:butt; stroke-linejoin:round; stroke-width:2; stroke-opacity:0.1; fill:none\" points=\"\n",
       "  409.328,1486.45 409.328,47.2441 \n",
       "  \"/>\n",
       "<polyline clip-path=\"url(#clip762)\" style=\"stroke:#000000; stroke-linecap:butt; stroke-linejoin:round; stroke-width:2; stroke-opacity:0.1; fill:none\" points=\"\n",
       "  879.322,1486.45 879.322,47.2441 \n",
       "  \"/>\n",
       "<polyline clip-path=\"url(#clip762)\" style=\"stroke:#000000; stroke-linecap:butt; stroke-linejoin:round; stroke-width:2; stroke-opacity:0.1; fill:none\" points=\"\n",
       "  1349.32,1486.45 1349.32,47.2441 \n",
       "  \"/>\n",
       "<polyline clip-path=\"url(#clip762)\" style=\"stroke:#000000; stroke-linecap:butt; stroke-linejoin:round; stroke-width:2; stroke-opacity:0.1; fill:none\" points=\"\n",
       "  1819.31,1486.45 1819.31,47.2441 \n",
       "  \"/>\n",
       "<polyline clip-path=\"url(#clip762)\" style=\"stroke:#000000; stroke-linecap:butt; stroke-linejoin:round; stroke-width:2; stroke-opacity:0.1; fill:none\" points=\"\n",
       "  2289.31,1486.45 2289.31,47.2441 \n",
       "  \"/>\n",
       "<polyline clip-path=\"url(#clip760)\" style=\"stroke:#000000; stroke-linecap:butt; stroke-linejoin:round; stroke-width:4; stroke-opacity:1; fill:none\" points=\"\n",
       "  110.881,1486.45 2352.76,1486.45 \n",
       "  \"/>\n",
       "<polyline clip-path=\"url(#clip760)\" style=\"stroke:#000000; stroke-linecap:butt; stroke-linejoin:round; stroke-width:4; stroke-opacity:1; fill:none\" points=\"\n",
       "  409.328,1486.45 409.328,1467.55 \n",
       "  \"/>\n",
       "<polyline clip-path=\"url(#clip760)\" style=\"stroke:#000000; stroke-linecap:butt; stroke-linejoin:round; stroke-width:4; stroke-opacity:1; fill:none\" points=\"\n",
       "  879.322,1486.45 879.322,1467.55 \n",
       "  \"/>\n",
       "<polyline clip-path=\"url(#clip760)\" style=\"stroke:#000000; stroke-linecap:butt; stroke-linejoin:round; stroke-width:4; stroke-opacity:1; fill:none\" points=\"\n",
       "  1349.32,1486.45 1349.32,1467.55 \n",
       "  \"/>\n",
       "<polyline clip-path=\"url(#clip760)\" style=\"stroke:#000000; stroke-linecap:butt; stroke-linejoin:round; stroke-width:4; stroke-opacity:1; fill:none\" points=\"\n",
       "  1819.31,1486.45 1819.31,1467.55 \n",
       "  \"/>\n",
       "<polyline clip-path=\"url(#clip760)\" style=\"stroke:#000000; stroke-linecap:butt; stroke-linejoin:round; stroke-width:4; stroke-opacity:1; fill:none\" points=\"\n",
       "  2289.31,1486.45 2289.31,1467.55 \n",
       "  \"/>\n",
       "<path clip-path=\"url(#clip760)\" d=\"M403.98 1544.91 L420.3 1544.91 L420.3 1548.85 L398.355 1548.85 L398.355 1544.91 Q401.017 1542.16 405.601 1537.53 Q410.207 1532.88 411.388 1531.53 Q413.633 1529.01 414.513 1527.27 Q415.415 1525.51 415.415 1523.82 Q415.415 1521.07 413.471 1519.33 Q411.55 1517.6 408.448 1517.6 Q406.249 1517.6 403.795 1518.36 Q401.365 1519.13 398.587 1520.68 L398.587 1515.95 Q401.411 1514.82 403.865 1514.24 Q406.318 1513.66 408.355 1513.66 Q413.726 1513.66 416.92 1516.35 Q420.115 1519.03 420.115 1523.52 Q420.115 1525.65 419.304 1527.57 Q418.517 1529.47 416.411 1532.07 Q415.832 1532.74 412.73 1535.95 Q409.628 1539.15 403.98 1544.91 Z\" fill=\"#000000\" fill-rule=\"evenodd\" fill-opacity=\"1\" /><path clip-path=\"url(#clip760)\" d=\"M882.332 1518.36 L870.526 1536.81 L882.332 1536.81 L882.332 1518.36 M881.105 1514.29 L886.984 1514.29 L886.984 1536.81 L891.915 1536.81 L891.915 1540.7 L886.984 1540.7 L886.984 1548.85 L882.332 1548.85 L882.332 1540.7 L866.73 1540.7 L866.73 1536.19 L881.105 1514.29 Z\" fill=\"#000000\" fill-rule=\"evenodd\" fill-opacity=\"1\" /><path clip-path=\"url(#clip760)\" d=\"M1349.72 1529.7 Q1346.57 1529.7 1344.72 1531.86 Q1342.89 1534.01 1342.89 1537.76 Q1342.89 1541.49 1344.72 1543.66 Q1346.57 1545.82 1349.72 1545.82 Q1352.87 1545.82 1354.7 1543.66 Q1356.55 1541.49 1356.55 1537.76 Q1356.55 1534.01 1354.7 1531.86 Q1352.87 1529.7 1349.72 1529.7 M1359 1515.05 L1359 1519.31 Q1357.25 1518.48 1355.44 1518.04 Q1353.66 1517.6 1351.9 1517.6 Q1347.27 1517.6 1344.81 1520.72 Q1342.38 1523.85 1342.04 1530.17 Q1343.4 1528.15 1345.46 1527.09 Q1347.52 1526 1350 1526 Q1355.21 1526 1358.22 1529.17 Q1361.25 1532.32 1361.25 1537.76 Q1361.25 1543.08 1358.1 1546.3 Q1354.95 1549.52 1349.72 1549.52 Q1343.73 1549.52 1340.56 1544.94 Q1337.38 1540.33 1337.38 1531.6 Q1337.38 1523.41 1341.27 1518.55 Q1345.16 1513.66 1351.71 1513.66 Q1353.47 1513.66 1355.25 1514.01 Q1357.06 1514.36 1359 1515.05 Z\" fill=\"#000000\" fill-rule=\"evenodd\" fill-opacity=\"1\" /><path clip-path=\"url(#clip760)\" d=\"M1819.31 1532.44 Q1815.98 1532.44 1814.06 1534.22 Q1812.16 1536 1812.16 1539.13 Q1812.16 1542.25 1814.06 1544.03 Q1815.98 1545.82 1819.31 1545.82 Q1822.65 1545.82 1824.57 1544.03 Q1826.49 1542.23 1826.49 1539.13 Q1826.49 1536 1824.57 1534.22 Q1822.67 1532.44 1819.31 1532.44 M1814.64 1530.45 Q1811.63 1529.7 1809.94 1527.64 Q1808.27 1525.58 1808.27 1522.62 Q1808.27 1518.48 1811.21 1516.07 Q1814.17 1513.66 1819.31 1513.66 Q1824.47 1513.66 1827.41 1516.07 Q1830.35 1518.48 1830.35 1522.62 Q1830.35 1525.58 1828.66 1527.64 Q1827 1529.7 1824.01 1530.45 Q1827.39 1531.23 1829.27 1533.52 Q1831.16 1535.82 1831.16 1539.13 Q1831.16 1544.15 1828.08 1546.83 Q1825.03 1549.52 1819.31 1549.52 Q1813.59 1549.52 1810.52 1546.83 Q1807.46 1544.15 1807.46 1539.13 Q1807.46 1535.82 1809.36 1533.52 Q1811.26 1531.23 1814.64 1530.45 M1812.92 1523.06 Q1812.92 1525.75 1814.59 1527.25 Q1816.28 1528.76 1819.31 1528.76 Q1822.32 1528.76 1824.01 1527.25 Q1825.72 1525.75 1825.72 1523.06 Q1825.72 1520.38 1824.01 1518.87 Q1822.32 1517.37 1819.31 1517.37 Q1816.28 1517.37 1814.59 1518.87 Q1812.92 1520.38 1812.92 1523.06 Z\" fill=\"#000000\" fill-rule=\"evenodd\" fill-opacity=\"1\" /><path clip-path=\"url(#clip760)\" d=\"M2263.99 1544.91 L2271.63 1544.91 L2271.63 1518.55 L2263.32 1520.21 L2263.32 1515.95 L2271.59 1514.29 L2276.26 1514.29 L2276.26 1544.91 L2283.9 1544.91 L2283.9 1548.85 L2263.99 1548.85 L2263.99 1544.91 Z\" fill=\"#000000\" fill-rule=\"evenodd\" fill-opacity=\"1\" /><path clip-path=\"url(#clip760)\" d=\"M2303.35 1517.37 Q2299.73 1517.37 2297.91 1520.93 Q2296.1 1524.47 2296.1 1531.6 Q2296.1 1538.71 2297.91 1542.27 Q2299.73 1545.82 2303.35 1545.82 Q2306.98 1545.82 2308.79 1542.27 Q2310.61 1538.71 2310.61 1531.6 Q2310.61 1524.47 2308.79 1520.93 Q2306.98 1517.37 2303.35 1517.37 M2303.35 1513.66 Q2309.16 1513.66 2312.21 1518.27 Q2315.29 1522.85 2315.29 1531.6 Q2315.29 1540.33 2312.21 1544.94 Q2309.16 1549.52 2303.35 1549.52 Q2297.54 1549.52 2294.46 1544.94 Q2291.4 1540.33 2291.4 1531.6 Q2291.4 1522.85 2294.46 1518.27 Q2297.54 1513.66 2303.35 1513.66 Z\" fill=\"#000000\" fill-rule=\"evenodd\" fill-opacity=\"1\" /><polyline clip-path=\"url(#clip762)\" style=\"stroke:#000000; stroke-linecap:butt; stroke-linejoin:round; stroke-width:2; stroke-opacity:0.1; fill:none\" points=\"\n",
       "  110.881,1445.72 2352.76,1445.72 \n",
       "  \"/>\n",
       "<polyline clip-path=\"url(#clip762)\" style=\"stroke:#000000; stroke-linecap:butt; stroke-linejoin:round; stroke-width:2; stroke-opacity:0.1; fill:none\" points=\"\n",
       "  110.881,1062.2 2352.76,1062.2 \n",
       "  \"/>\n",
       "<polyline clip-path=\"url(#clip762)\" style=\"stroke:#000000; stroke-linecap:butt; stroke-linejoin:round; stroke-width:2; stroke-opacity:0.1; fill:none\" points=\"\n",
       "  110.881,678.668 2352.76,678.668 \n",
       "  \"/>\n",
       "<polyline clip-path=\"url(#clip762)\" style=\"stroke:#000000; stroke-linecap:butt; stroke-linejoin:round; stroke-width:2; stroke-opacity:0.1; fill:none\" points=\"\n",
       "  110.881,295.14 2352.76,295.14 \n",
       "  \"/>\n",
       "<polyline clip-path=\"url(#clip760)\" style=\"stroke:#000000; stroke-linecap:butt; stroke-linejoin:round; stroke-width:4; stroke-opacity:1; fill:none\" points=\"\n",
       "  110.881,1486.45 110.881,47.2441 \n",
       "  \"/>\n",
       "<polyline clip-path=\"url(#clip760)\" style=\"stroke:#000000; stroke-linecap:butt; stroke-linejoin:round; stroke-width:4; stroke-opacity:1; fill:none\" points=\"\n",
       "  110.881,1445.72 129.779,1445.72 \n",
       "  \"/>\n",
       "<polyline clip-path=\"url(#clip760)\" style=\"stroke:#000000; stroke-linecap:butt; stroke-linejoin:round; stroke-width:4; stroke-opacity:1; fill:none\" points=\"\n",
       "  110.881,1062.2 129.779,1062.2 \n",
       "  \"/>\n",
       "<polyline clip-path=\"url(#clip760)\" style=\"stroke:#000000; stroke-linecap:butt; stroke-linejoin:round; stroke-width:4; stroke-opacity:1; fill:none\" points=\"\n",
       "  110.881,678.668 129.779,678.668 \n",
       "  \"/>\n",
       "<polyline clip-path=\"url(#clip760)\" style=\"stroke:#000000; stroke-linecap:butt; stroke-linejoin:round; stroke-width:4; stroke-opacity:1; fill:none\" points=\"\n",
       "  110.881,295.14 129.779,295.14 \n",
       "  \"/>\n",
       "<path clip-path=\"url(#clip760)\" d=\"M62.9365 1431.52 Q59.3254 1431.52 57.4967 1435.09 Q55.6912 1438.63 55.6912 1445.76 Q55.6912 1452.86 57.4967 1456.43 Q59.3254 1459.97 62.9365 1459.97 Q66.5707 1459.97 68.3763 1456.43 Q70.205 1452.86 70.205 1445.76 Q70.205 1438.63 68.3763 1435.09 Q66.5707 1431.52 62.9365 1431.52 M62.9365 1427.82 Q68.7467 1427.82 71.8022 1432.42 Q74.8809 1437.01 74.8809 1445.76 Q74.8809 1454.49 71.8022 1459.09 Q68.7467 1463.67 62.9365 1463.67 Q57.1264 1463.67 54.0477 1459.09 Q50.9921 1454.49 50.9921 1445.76 Q50.9921 1437.01 54.0477 1432.42 Q57.1264 1427.82 62.9365 1427.82 Z\" fill=\"#000000\" fill-rule=\"evenodd\" fill-opacity=\"1\" /><path clip-path=\"url(#clip760)\" d=\"M54.9736 1075.54 L62.6124 1075.54 L62.6124 1049.18 L54.3023 1050.84 L54.3023 1046.58 L62.5661 1044.92 L67.242 1044.92 L67.242 1075.54 L74.8809 1075.54 L74.8809 1079.48 L54.9736 1079.48 L54.9736 1075.54 Z\" fill=\"#000000\" fill-rule=\"evenodd\" fill-opacity=\"1\" /><path clip-path=\"url(#clip760)\" d=\"M58.5615 692.013 L74.8809 692.013 L74.8809 695.948 L52.9366 695.948 L52.9366 692.013 Q55.5986 689.258 60.1819 684.629 Q64.7883 679.976 65.9689 678.633 Q68.2143 676.11 69.0939 674.374 Q69.9967 672.615 69.9967 670.925 Q69.9967 668.17 68.0522 666.434 Q66.1309 664.698 63.0291 664.698 Q60.83 664.698 58.3763 665.462 Q55.9458 666.226 53.168 667.777 L53.168 663.055 Q55.9921 661.92 58.4458 661.342 Q60.8995 660.763 62.9365 660.763 Q68.3068 660.763 71.5013 663.448 Q74.6957 666.133 74.6957 670.624 Q74.6957 672.754 73.8855 674.675 Q73.0985 676.573 70.992 679.166 Q70.4133 679.837 67.3115 683.055 Q64.2096 686.249 58.5615 692.013 Z\" fill=\"#000000\" fill-rule=\"evenodd\" fill-opacity=\"1\" /><path clip-path=\"url(#clip760)\" d=\"M67.7513 293.786 Q71.1078 294.504 72.9827 296.772 Q74.8809 299.041 74.8809 302.374 Q74.8809 307.49 71.3624 310.291 Q67.8439 313.092 61.3624 313.092 Q59.1865 313.092 56.8717 312.652 Q54.5801 312.235 52.1264 311.379 L52.1264 306.865 Q54.0708 307.999 56.3856 308.578 Q58.7004 309.156 61.2236 309.156 Q65.6217 309.156 67.9133 307.42 Q70.2281 305.684 70.2281 302.374 Q70.2281 299.319 68.0754 297.606 Q65.9457 295.869 62.1263 295.869 L58.0986 295.869 L58.0986 292.027 L62.3115 292.027 Q65.7606 292.027 67.5893 290.661 Q69.418 289.272 69.418 286.68 Q69.418 284.018 67.5198 282.606 Q65.6448 281.17 62.1263 281.17 Q60.205 281.17 58.006 281.587 Q55.8069 282.004 53.168 282.883 L53.168 278.717 Q55.8301 277.976 58.1449 277.606 Q60.4828 277.235 62.543 277.235 Q67.867 277.235 70.9689 279.666 Q74.0707 282.073 74.0707 286.194 Q74.0707 289.064 72.4272 291.055 Q70.7837 293.022 67.7513 293.786 Z\" fill=\"#000000\" fill-rule=\"evenodd\" fill-opacity=\"1\" /><polyline clip-path=\"url(#clip762)\" style=\"stroke:#009af9; stroke-linecap:butt; stroke-linejoin:round; stroke-width:4; stroke-opacity:1; fill:none\" points=\"\n",
       "  174.33,87.9763 409.328,1384.63 644.325,1417.43 879.322,1435.67 1114.32,1442.54 1349.32,1444.75 1584.31,1445.43 1819.31,1445.64 2054.31,1445.7 2289.31,1445.72 \n",
       "  \n",
       "  \"/>\n",
       "<path clip-path=\"url(#clip760)\" d=\"\n",
       "M1976.5 198.898 L2278.03 198.898 L2278.03 95.2176 L1976.5 95.2176  Z\n",
       "  \" fill=\"#ffffff\" fill-rule=\"evenodd\" fill-opacity=\"1\"/>\n",
       "<polyline clip-path=\"url(#clip760)\" style=\"stroke:#000000; stroke-linecap:butt; stroke-linejoin:round; stroke-width:4; stroke-opacity:1; fill:none\" points=\"\n",
       "  1976.5,198.898 2278.03,198.898 2278.03,95.2176 1976.5,95.2176 1976.5,198.898 \n",
       "  \"/>\n",
       "<polyline clip-path=\"url(#clip760)\" style=\"stroke:#009af9; stroke-linecap:butt; stroke-linejoin:round; stroke-width:4; stroke-opacity:1; fill:none\" points=\"\n",
       "  2001.41,147.058 2150.87,147.058 \n",
       "  \"/>\n",
       "<path clip-path=\"url(#clip760)\" d=\"M2189.62 166.745 Q2187.81 171.375 2186.1 172.787 Q2184.39 174.199 2181.52 174.199 L2178.11 174.199 L2178.11 170.634 L2180.61 170.634 Q2182.37 170.634 2183.35 169.8 Q2184.32 168.967 2185.5 165.865 L2186.26 163.921 L2175.78 138.412 L2180.29 138.412 L2188.39 158.689 L2196.49 138.412 L2201.01 138.412 L2189.62 166.745 Z\" fill=\"#000000\" fill-rule=\"evenodd\" fill-opacity=\"1\" /><path clip-path=\"url(#clip760)\" d=\"M2208.3 160.402 L2215.94 160.402 L2215.94 134.037 L2207.63 135.703 L2207.63 131.444 L2215.89 129.778 L2220.57 129.778 L2220.57 160.402 L2228.21 160.402 L2228.21 164.338 L2208.3 164.338 L2208.3 160.402 Z\" fill=\"#000000\" fill-rule=\"evenodd\" fill-opacity=\"1\" /></svg>\n"
      ]
     },
     "metadata": {},
     "output_type": "display_data"
    }
   ],
   "source": [
    "plot(history, xlabel=\"Iteration\", ylabel=\"Loss function\", label=\"\")"
   ]
  }
 ],
 "metadata": {
  "kernelspec": {
   "display_name": "Julia 1.7.2",
   "language": "julia",
   "name": "julia-1.7"
  },
  "language_info": {
   "file_extension": ".jl",
   "mimetype": "application/julia",
   "name": "julia",
   "version": "1.7.2"
  },
  "orig_nbformat": 4
 },
 "nbformat": 4,
 "nbformat_minor": 2
}
