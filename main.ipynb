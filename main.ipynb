{
 "cells": [
  {
   "cell_type": "markdown",
   "metadata": {},
   "source": [
    "## Temat 1. Własna sieć neuronowa\n",
    "Celem projektu jest samodzielne zaimplementowanie prostej sieci neuronowej i przetestowanie jej na wybranym przez siebie przykładzie.\n",
    "\n",
    "Podstawowym założeniem projektu jest własnoręczne zaimplementowanie automatycznego różniczkowania w celu wyznaczania pochodnych warstw potrzebnych do wstecznej   propagacji błędów. Dopuszczalne jest wykorzystanie różniczkowanie w przód (ang. Forward Accumulation), różniczkowanie w tył (ang. Reverse Accumulation) oraz różniczkowanie oparte o generację kodu (ang. source-to-source differentiation).\n",
    "\n",
    "Do implementacji optymalizatorów dokonujących właściwego uczenia sieci można wykorzystać kod zamieszczony w książce \"Algorithms for Optimization\" [1].\n",
    "\n",
    "klasyfikacja cyfr (Digits MNIST dataset)  \n",
    "Bibliografia:  \n",
    "[1] Mykel J. Kochenderfer, Tim A. Wheeler, 2019, Algorithms for Optimization, MIT Press.  \n",
    "[2] Martin T. Hagan et. al, Neural Network Design, pp. 915-918, url: https://hagan.okstate.edu/NNDesign.pdf  \n",
    "[3] 3blue1brown: czym są sieci neuronowe? https://www.youtube.com/watch?v=aircAruvnKk  \n",
    "  \n"
   ]
  },
  {
   "cell_type": "code",
   "execution_count": 108,
   "metadata": {},
   "outputs": [
    {
     "name": "stderr",
     "output_type": "stream",
     "text": [
      "\u001b[32m\u001b[1m  Activating\u001b[22m\u001b[39m project at `e:\\Documents\\1. Studia\\MAGISTERSKIE\\Algorytmy w inż danych\\Custom-Julia-NN\\project`\n"
     ]
    }
   ],
   "source": [
    "using Pkg\n",
    "Pkg.activate(\"./project\")"
   ]
  },
  {
   "cell_type": "code",
   "execution_count": 282,
   "metadata": {},
   "outputs": [
    {
     "name": "stderr",
     "output_type": "stream",
     "text": [
      "\u001b[32m\u001b[1m   Resolving\u001b[22m\u001b[39m package versions...\n",
      "\u001b[32m\u001b[1m  No Changes\u001b[22m\u001b[39m to `E:\\Documents\\1. Studia\\MAGISTERSKIE\\Algorytmy w inż danych\\Custom-Julia-NN\\project\\Project.toml`\n",
      "\u001b[32m\u001b[1m  No Changes\u001b[22m\u001b[39m to `E:\\Documents\\1. Studia\\MAGISTERSKIE\\Algorytmy w inż danych\\Custom-Julia-NN\\project\\Manifest.toml`\n",
      "\u001b[32m\u001b[1m   Resolving\u001b[22m\u001b[39m package versions...\n",
      "\u001b[32m\u001b[1m  No Changes\u001b[22m\u001b[39m to `E:\\Documents\\1. Studia\\MAGISTERSKIE\\Algorytmy w inż danych\\Custom-Julia-NN\\project\\Project.toml`\n",
      "\u001b[32m\u001b[1m  No Changes\u001b[22m\u001b[39m to `E:\\Documents\\1. Studia\\MAGISTERSKIE\\Algorytmy w inż danych\\Custom-Julia-NN\\project\\Manifest.toml`\n",
      "\u001b[32m\u001b[1m   Resolving\u001b[22m\u001b[39m package versions...\n",
      "\u001b[32m\u001b[1m  No Changes\u001b[22m\u001b[39m to `E:\\Documents\\1. Studia\\MAGISTERSKIE\\Algorytmy w inż danych\\Custom-Julia-NN\\project\\Project.toml`\n",
      "\u001b[32m\u001b[1m  No Changes\u001b[22m\u001b[39m to `E:\\Documents\\1. Studia\\MAGISTERSKIE\\Algorytmy w inż danych\\Custom-Julia-NN\\project\\Manifest.toml`\n"
     ]
    }
   ],
   "source": [
    "Pkg.add(\"MLDatasets\")\n",
    "Pkg.add(\"IJulia\")\n",
    "Pkg.add(\"StableRNGs\")\n"
   ]
  },
  {
   "cell_type": "markdown",
   "metadata": {},
   "source": [
    "# Load Dataset"
   ]
  },
  {
   "cell_type": "code",
   "execution_count": 283,
   "metadata": {},
   "outputs": [
    {
     "name": "stdout",
     "output_type": "stream",
     "text": [
      "Train X shape: (28, 28, 1, 60000)\n",
      "Test X shape: (28, 28, 1, 10000)\n",
      "Train Y shape: (10, 60000)\n",
      "Test Y shape: (10, 10000)\n"
     ]
    }
   ],
   "source": [
    "using MLDatasets\n",
    "using StableRNGs\n",
    "train_x, train_y = MNIST.traindata(Float32);\n",
    "test_x, test_y = MNIST.testdata(Float32);\n",
    "train_size = size(train_x)\n",
    "test_size = size(test_x)\n",
    "train_x = reshape(train_x, (train_size[1],train_size[2],1,train_size[3]))\n",
    "test_x = reshape(test_x, (test_size[1],test_size[2],1,test_size[3]))\n",
    "println(\"Train X shape: \",size(train_x));\n",
    "println(\"Test X shape: \",size((test_x)));\n",
    "test_test_y = test_y\n",
    "test_y= Y_labels  .== permutedims(test_y)\n",
    "train_y= Y_labels .== permutedims(train_y)\n",
    "println(\"Train Y shape: \",size(train_y));\n",
    "println(\"Test Y shape: \",size((test_y)));"
   ]
  },
  {
   "cell_type": "markdown",
   "metadata": {},
   "source": [
    "## Activation functions"
   ]
  },
  {
   "cell_type": "code",
   "execution_count": 284,
   "metadata": {},
   "outputs": [
    {
     "data": {
      "text/plain": [
       "relu (generic function with 1 method)"
      ]
     },
     "metadata": {},
     "output_type": "display_data"
    }
   ],
   "source": [
    "function sigmoid(Z)\n",
    "    \"\"\"\n",
    "    Sigmoid activation function\n",
    "    \"\"\"\n",
    "    A = 1 ./ (1 .+ exp.(.-Z))\n",
    "    return (A = A, Z = Z)\n",
    "end\n",
    "\n",
    "function relu(Z)\n",
    "    \"\"\"\n",
    "        ReLU activation function\n",
    "    \"\"\"\n",
    "    A = max.(0, Z)\n",
    "    return (A=A, Z=Z)\n",
    "end"
   ]
  },
  {
   "cell_type": "code",
   "execution_count": 308,
   "metadata": {},
   "outputs": [
    {
     "data": {
      "text/plain": [
       "initialise_model_weights (generic function with 1 method)"
      ]
     },
     "metadata": {},
     "output_type": "display_data"
    }
   ],
   "source": [
    "function initialise_model_weights(layer_dims, seed)\n",
    "    \"\"\"\n",
    "        Funtion to initialise the parameters or weights of the network.\n",
    "    \"\"\"\n",
    "    params = Dict()\n",
    "    println(2:length(layer_dims))\n",
    "\n",
    "    for l=2:length(layer_dims)\n",
    "        printlnt(rand(StableRNG(seed), layer_dims[l], layer_dims[l-1]))\n",
    "        params[string(\"W_\", (l-1))] = rand(StableRNG(seed), layer_dims[l], layer_dims[l-1]) * sqrt(1 / layer_dims[l-1])\n",
    "        params[string(\"b_\", (l-1))] = zeros(layer_dims[l], 1)\n",
    "    end\n",
    "\n",
    "    return params\n",
    "end"
   ]
  },
  {
   "cell_type": "code",
   "execution_count": 310,
   "metadata": {},
   "outputs": [
    {
     "name": "stdout",
     "output_type": "stream",
     "text": [
      "2:5\n"
     ]
    },
    {
     "data": {
      "text/plain": [
       "Dict{Any, Any} with 8 entries:\n",
       "  \"b_1\" => [0.0; 0.0; … ; 0.0; 0.0;;]\n",
       "  \"W_3\" => [0.146299 0.163273 … 0.0890796 0.0478303; 0.0193345 0.0591598 … 0.02…\n",
       "  \"W_2\" => [0.103449 0.109158 … 0.0352753 0.164116; 0.0136715 0.0851234 … 0.156…\n",
       "  \"b_2\" => [0.0; 0.0; … ; 0.0; 0.0;;]\n",
       "  \"b_3\" => [0.0; 0.0; 0.0; 0.0;;]\n",
       "  \"b_4\" => [0.0; 0.0; … ; 0.0; 0.0;;]\n",
       "  \"W_1\" => [0.0185055 0.00504804 … 0.00063453 0.00564094; 0.00244564 0.00160207…\n",
       "  \"W_4\" => [0.292597 0.47187 0.429261 0.202521; 0.038669 0.222835 0.349357 0.16…"
      ]
     },
     "metadata": {},
     "output_type": "display_data"
    }
   ],
   "source": [
    "xd = initialise_model_weights((1000,32,16,4,10),1)\n",
    "xd"
   ]
  },
  {
   "cell_type": "code",
   "execution_count": 279,
   "metadata": {},
   "outputs": [
    {
     "name": "stdout",
     "output_type": "stream",
     "text": [
      "\u001b[32m\u001b[1m      Status\u001b[22m\u001b[39m `E:\\Documents\\1. Studia\\MAGISTERSKIE\\Algorytmy w inż danych\\Custom-Julia-NN\\project\\Project.toml`\n",
      " \u001b[90m [7073ff75] \u001b[39mIJulia v1.23.2\n",
      " \u001b[90m [eb30cadb] \u001b[39mMLDatasets v0.5.15\n",
      " \u001b[90m [860ef19b] \u001b[39mStableRNGs v1.0.0\n"
     ]
    }
   ],
   "source": [
    "\n"
   ]
  },
  {
   "cell_type": "code",
   "execution_count": null,
   "metadata": {},
   "outputs": [],
   "source": []
  }
 ],
 "metadata": {
  "kernelspec": {
   "display_name": "Julia 1.7.2",
   "language": "julia",
   "name": "julia-1.7"
  },
  "language_info": {
   "file_extension": ".jl",
   "mimetype": "application/julia",
   "name": "julia",
   "version": "1.7.2"
  },
  "orig_nbformat": 4
 },
 "nbformat": 4,
 "nbformat_minor": 2
}
