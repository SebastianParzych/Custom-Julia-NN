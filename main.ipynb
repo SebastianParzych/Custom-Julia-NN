{
 "cells": [
  {
   "cell_type": "markdown",
   "metadata": {},
   "source": [
    "## Temat 1. Własna sieć neuronowa\n",
    "Celem projektu jest samodzielne zaimplementowanie prostej sieci neuronowej i przetestowanie jej na wybranym przez siebie przykładzie.\n",
    "\n",
    "Podstawowym założeniem projektu jest własnoręczne zaimplementowanie automatycznego różniczkowania w celu wyznaczania pochodnych warstw potrzebnych do wstecznej   propagacji błędów. Dopuszczalne jest wykorzystanie różniczkowanie w przód (ang. Forward Accumulation), różniczkowanie w tył (ang. Reverse Accumulation) oraz różniczkowanie oparte o generację kodu (ang. source-to-source differentiation).\n",
    "\n",
    "Do implementacji optymalizatorów dokonujących właściwego uczenia sieci można wykorzystać kod zamieszczony w książce \"Algorithms for Optimization\" [1].\n",
    "\n",
    "klasyfikacja cyfr (Digits MNIST dataset)  \n",
    "Bibliografia:  \n",
    "[1] Mykel J. Kochenderfer, Tim A. Wheeler, 2019, Algorithms for Optimization, MIT Press.  \n",
    "[2] Martin T. Hagan et. al, Neural Network Design, pp. 915-918, url: https://hagan.okstate.edu/NNDesign.pdf  \n",
    "[3] 3blue1brown: czym są sieci neuronowe? https://www.youtube.com/watch?v=aircAruvnKk  \n",
    "  \n"
   ]
  },
  {
   "cell_type": "code",
   "execution_count": 1,
   "metadata": {},
   "outputs": [
    {
     "name": "stderr",
     "output_type": "stream",
     "text": [
      "\u001b[32m\u001b[1m  Activating\u001b[22m\u001b[39m project at `e:\\Documents\\1. Studia\\MAGISTERSKIE\\Algorytmy w inż danych\\Custom-Julia-NN\\project`\n"
     ]
    }
   ],
   "source": [
    "using Pkg\n",
    "Pkg.activate(\"./project\")"
   ]
  },
  {
   "cell_type": "code",
   "execution_count": 2,
   "metadata": {},
   "outputs": [
    {
     "name": "stderr",
     "output_type": "stream",
     "text": [
      "\u001b[32m\u001b[1m    Updating\u001b[22m\u001b[39m registry at `C:\\Users\\parzy\\.julia\\registries\\General.toml`\n",
      "\u001b[32m\u001b[1m   Resolving\u001b[22m\u001b[39m package versions...\n",
      "\u001b[32m\u001b[1m  No Changes\u001b[22m\u001b[39m to `E:\\Documents\\1. Studia\\MAGISTERSKIE\\Algorytmy w inż danych\\Custom-Julia-NN\\project\\Project.toml`\n",
      "\u001b[32m\u001b[1m  No Changes\u001b[22m\u001b[39m to `E:\\Documents\\1. Studia\\MAGISTERSKIE\\Algorytmy w inż danych\\Custom-Julia-NN\\project\\Manifest.toml`\n",
      "\u001b[32m\u001b[1m   Resolving\u001b[22m\u001b[39m package versions...\n",
      "\u001b[32m\u001b[1m  No Changes\u001b[22m\u001b[39m to `E:\\Documents\\1. Studia\\MAGISTERSKIE\\Algorytmy w inż danych\\Custom-Julia-NN\\project\\Project.toml`\n",
      "\u001b[32m\u001b[1m  No Changes\u001b[22m\u001b[39m to `E:\\Documents\\1. Studia\\MAGISTERSKIE\\Algorytmy w inż danych\\Custom-Julia-NN\\project\\Manifest.toml`\n",
      "\u001b[32m\u001b[1m   Resolving\u001b[22m\u001b[39m package versions...\n",
      "\u001b[32m\u001b[1m  No Changes\u001b[22m\u001b[39m to `E:\\Documents\\1. Studia\\MAGISTERSKIE\\Algorytmy w inż danych\\Custom-Julia-NN\\project\\Project.toml`\n",
      "\u001b[32m\u001b[1m  No Changes\u001b[22m\u001b[39m to `E:\\Documents\\1. Studia\\MAGISTERSKIE\\Algorytmy w inż danych\\Custom-Julia-NN\\project\\Manifest.toml`\n",
      "\u001b[32m\u001b[1m   Resolving\u001b[22m\u001b[39m package versions...\n",
      "\u001b[32m\u001b[1m  No Changes\u001b[22m\u001b[39m to `E:\\Documents\\1. Studia\\MAGISTERSKIE\\Algorytmy w inż danych\\Custom-Julia-NN\\project\\Project.toml`\n",
      "\u001b[32m\u001b[1m  No Changes\u001b[22m\u001b[39m to `E:\\Documents\\1. Studia\\MAGISTERSKIE\\Algorytmy w inż danych\\Custom-Julia-NN\\project\\Manifest.toml`\n",
      "\u001b[32m\u001b[1m   Resolving\u001b[22m\u001b[39m package versions...\n",
      "\u001b[32m\u001b[1m  No Changes\u001b[22m\u001b[39m to `E:\\Documents\\1. Studia\\MAGISTERSKIE\\Algorytmy w inż danych\\Custom-Julia-NN\\project\\Project.toml`\n",
      "\u001b[32m\u001b[1m  No Changes\u001b[22m\u001b[39m to `E:\\Documents\\1. Studia\\MAGISTERSKIE\\Algorytmy w inż danych\\Custom-Julia-NN\\project\\Manifest.toml`\n"
     ]
    },
    {
     "data": {
      "text/plain": [
       "\"\""
      ]
     },
     "metadata": {},
     "output_type": "display_data"
    }
   ],
   "source": [
    "Pkg.add(\"MLDatasets\")\n",
    "Pkg.add(\"IJulia\")\n",
    "Pkg.add(\"StableRNGs\")\n",
    "Pkg.add(\"DataFrames\")\n",
    "Pkg.add(\"PyPlot\")\n",
    "ENV[\"PYTHON\"]=\"\""
   ]
  },
  {
   "cell_type": "markdown",
   "metadata": {},
   "source": [
    "# Load Dataset"
   ]
  },
  {
   "cell_type": "code",
   "execution_count": 116,
   "metadata": {},
   "outputs": [
    {
     "data": {
      "text/plain": [
       "150-element CategoricalArrays.CategoricalArray{String,1,UInt8}:\n",
       " \"setosa\"\n",
       " \"setosa\"\n",
       " \"setosa\"\n",
       " \"setosa\"\n",
       " \"setosa\"\n",
       " \"setosa\"\n",
       " \"setosa\"\n",
       " \"setosa\"\n",
       " \"setosa\"\n",
       " \"setosa\"\n",
       " ⋮\n",
       " \"virginica\"\n",
       " \"virginica\"\n",
       " \"virginica\"\n",
       " \"virginica\"\n",
       " \"virginica\"\n",
       " \"virginica\"\n",
       " \"virginica\"\n",
       " \"virginica\"\n",
       " \"virginica\""
      ]
     },
     "metadata": {},
     "output_type": "display_data"
    }
   ],
   "source": [
    "using RDatasets\n",
    "iris = dataset(\"datasets\", \"iris\")\n",
    "X = Matrix(iris[:, 1:4])\n",
    "y = iris.Species"
   ]
  },
  {
   "cell_type": "code",
   "execution_count": 114,
   "metadata": {},
   "outputs": [
    {
     "data": {
      "text/plain": [
       "prepare_data (generic function with 1 method)"
      ]
     },
     "metadata": {},
     "output_type": "display_data"
    }
   ],
   "source": [
    "using Random\n",
    "using Statistics\n",
    "function custom_split(X, y::AbstractVector; dims=1, ratio_train=0.8, kwargs...)\n",
    "    n = length(y)\n",
    "    size(X, dims) == n || throw(DimensionMismatch(\"...\"))\n",
    "\n",
    "    n_train = round(Int, ratio_train*n)\n",
    "    i_rand = randperm(n)\n",
    "    i_train = i_rand[1:n_train]\n",
    "    i_test = i_rand[n_train+1:end]\n",
    "\n",
    "    return selectdim(X, dims, i_train), y[i_train], selectdim(X, dims, i_test), y[i_test]\n",
    "end\n",
    "\n",
    "function normalize(X_train, X_test; dims=1, kwargs...)\n",
    "    col_mean = mean(X_train; dims)\n",
    "    col_std = std(X_train; dims)\n",
    "\n",
    "    return (X_train .- col_mean) ./ col_std, (X_test .- col_mean) ./ col_std\n",
    "end\n",
    "\n",
    "function onehot(y, classes)\n",
    "    y_onehot = falses(length(classes), length(y))\n",
    "    for (i, class) in enumerate(classes)\n",
    "        y_onehot[i, y.==class] .= 1\n",
    "    end\n",
    "    return y_onehot\n",
    "end\n",
    "\n",
    "function prepare_data(X, y; do_normal=true, do_onehot=true, kwargs...)\n",
    "    X_train, y_train, X_test, y_test = custom_split(X, y; kwargs...)\n",
    "\n",
    "    if do_normal\n",
    "        X_train, X_test = normalize(X_train, X_test; kwargs...)\n",
    "    end\n",
    "\n",
    "    classes = unique(y)\n",
    "\n",
    "    if do_onehot\n",
    "        y_train = onehot(y_train, classes)\n",
    "        y_test = onehot(y_test, classes)\n",
    "    end\n",
    "\n",
    "    return X_train, y_train, X_test, y_test, classes\n",
    "end"
   ]
  },
  {
   "cell_type": "code",
   "execution_count": 117,
   "metadata": {},
   "outputs": [
    {
     "data": {
      "text/plain": [
       "([-0.9567091360207884 2.381341432026811 … 0.5931000562870261 -1.0759252277367737; 0.6144932030632493 1.803834886411472 … 0.1387565297239609 1.0902298764025389; -1.2820588232454333 1.4311913692889917 … 0.9116328217823995 -1.5129737332483628; -1.0291490117089084 0.971356626602144 … 0.7046225414940037 -1.2958830968170487], Bool[1 0 … 0 1; 0 0 … 0 0; 0 1 … 1 0], [-0.5990608608728306 -1.4335735028847305 … 0.11623568942308302 0.11623568942308302; -0.0991118069456838 0.37662486639360565 … -0.812716816954617 -2.0020585003028395; 0.3343455467750751 -1.5129737332483628 … 0.6807179117794695 0.6229891842787373; 0.30452141383179315 -1.429250139371119 … 0.43788845638586343 0.30452141383179315], Bool[0 1 … 0 0; 1 0 … 1 0; 0 0 … 0 1], [\"setosa\", \"versicolor\", \"virginica\"])"
      ]
     },
     "metadata": {},
     "output_type": "display_data"
    }
   ],
   "source": [
    "\n",
    "X_train, y_train, X_test, y_test, classes = prepare_data(X', y; dims=2)"
   ]
  },
  {
   "cell_type": "markdown",
   "metadata": {},
   "source": [
    "###  Automatic differentation- foward accumulation"
   ]
  },
  {
   "cell_type": "code",
   "execution_count": 49,
   "metadata": {},
   "outputs": [],
   "source": [
    "# Dual number\n",
    "struct Dual{T <:Number} <:Number\n",
    "     v::T\n",
    "    dv::T\n",
    "end\n"
   ]
  },
  {
   "cell_type": "markdown",
   "metadata": {},
   "source": [
    "### Overloading functions and operators"
   ]
  },
  {
   "cell_type": "code",
   "execution_count": 50,
   "metadata": {},
   "outputs": [
    {
     "data": {
      "text/plain": [
       "log (generic function with 24 methods)"
      ]
     },
     "metadata": {},
     "output_type": "display_data"
    }
   ],
   "source": [
    "import Base: +, -, *, /\n",
    "-(x::Dual)          = Dual(-x.v,       -x.dv)\n",
    "+(x::Dual, y::Dual) = Dual( x.v + y.v,  x.dv + y.dv)\n",
    "-(x::Dual, y::Dual) = Dual( x.v - y.v,  x.dv - y.dv)\n",
    "*(x::Dual, y::Dual) = Dual( x.v * y.v,  x.dv * y.v + x.v * y.dv)\n",
    "/(x::Dual, y::Dual) = Dual( x.v / y.v, (x.dv * y.v - x.v * y.dv)/y.v^2)\n",
    "\n",
    "import Base: abs, sin, cos, tan, exp, sqrt, isless, log, max, min\n",
    "abs(x::Dual)  = Dual(abs(x.v),sign(x.v)*x.dv)\n",
    "sin(x::Dual)  = Dual(sin(x.v), cos(x.v)*x.dv)\n",
    "cos(x::Dual)  = Dual(cos(x.v),-sin(x.v)*x.dv)\n",
    "tan(x::Dual)  = Dual(tan(x.v), one(x.v)*x.dv + tan(x.v)^2*x.dv)\n",
    "exp(x::Dual)  = Dual(exp(x.v), exp(x.v)*x.dv)\n",
    "sqrt(x::Dual) = Dual(sqrt(x.v),.5/sqrt(x.v) * x.dv)\n",
    "isless(x::Dual, y::Dual) = x.v < y.v;\n",
    "max(x::Dual, y::Dual) =Dual(max(x.v , y.v),if x.v>y.v 1*x.dv  else 1*y.dv end); # what about dv\n",
    "min(x::Dual, y::Dual) =Dual(min(x.v , y.v),if x.v<y.v 1*x.dv  else 1*y.dv end); # what about dv\n",
    "log(x::Dual) = Dual(log(x.v), (1/abs(x.v))*x.dv) \n",
    "\n"
   ]
  },
  {
   "cell_type": "code",
   "execution_count": 51,
   "metadata": {},
   "outputs": [
    {
     "name": "stdout",
     "output_type": "stream",
     "text": [
      "Dual{Float64}[Dual(1, 2), Dual(3, 0)] = Dual{Float64}[(1.0) + [2.0ϵ], (3.0) + [0.0ϵ]]\n",
      "Dual{Float64}[1, 2, 3] = Dual{Float64}[(1.0) + [0.0ϵ], (2.0) + [0.0ϵ], (3.0) + [0.0ϵ]]\n",
      "Dual(1, 2) * 3 = (3) + [6ϵ]\n"
     ]
    }
   ],
   "source": [
    "import Base: convert, promote_rule\n",
    "\n",
    "convert(::Type{Dual{T}}, x::Dual) where {T} = Dual(convert(T, x.v), convert(T, x.dv))\n",
    "@show Dual{Float64}[Dual(1, 2), Dual(3, 0)];\n",
    "convert(::Type{Dual{T}}, x::Number) where {T} = Dual(convert(T, x), zero(T))\n",
    "@show Dual{Float64}[1, 2, 3];\n",
    "promote_rule(::Type{Dual{T}}, ::Type{R}) where {T,R} = Dual{promote_type(T, R)}\n",
    "@show Dual(1, 2) * 3;\n",
    "\n",
    "import Base: show\n",
    "show(io::IO, x::Dual) = print(io, \"(\", x.v, \") + [\", x.dv, \"ϵ]\");\n",
    "value(x::Dual) = x.v;\n",
    "partials(x::Dual) = x.dv;"
   ]
  },
  {
   "cell_type": "code",
   "execution_count": 52,
   "metadata": {},
   "outputs": [
    {
     "data": {
      "text/plain": [
       "derivative (generic function with 1 method)"
      ]
     },
     "metadata": {},
     "output_type": "display_data"
    }
   ],
   "source": [
    "D = derivative(f, x) = partials(f(Dual(x, one(x))))"
   ]
  },
  {
   "cell_type": "code",
   "execution_count": 108,
   "metadata": {},
   "outputs": [
    {
     "data": {
      "text/plain": [
       "jacobian (generic function with 1 method)"
      ]
     },
     "metadata": {},
     "output_type": "display_data"
    }
   ],
   "source": [
    "J = function jacobian(f, args::Vector{T}) where {T <:Number}\n",
    "    jacobian_columns = Matrix{T}[]\n",
    "\n",
    "    for i=1:length(args)\n",
    "        x = Dual{T}[]\n",
    "        for j=1:length(args)\n",
    "            seed = (i == j)\n",
    "            push!(x, seed ?\n",
    "                Dual(args[j], one(args[j])) :\n",
    "                Dual(args[j],zero(args[j])) )\n",
    "        end\n",
    "        column = partials.([f(x)...])\n",
    "        push!(jacobian_columns, column[:,:])\n",
    "    end\n",
    "    hcat(jacobian_columns...)\n",
    "end"
   ]
  },
  {
   "cell_type": "code",
   "execution_count": 107,
   "metadata": {},
   "outputs": [
    {
     "data": {
      "text/plain": [
       "hessian (generic function with 1 method)"
      ]
     },
     "metadata": {},
     "output_type": "display_data"
    }
   ],
   "source": [
    "H = function hessian(f, args::Vector)\n",
    "    ∇f(x::Vector) = J(f, x)\n",
    "    J(∇f, args)\n",
    "end"
   ]
  },
  {
   "cell_type": "code",
   "execution_count": 55,
   "metadata": {},
   "outputs": [
    {
     "data": {
      "text/plain": [
       "diagonal (generic function with 1 method)"
      ]
     },
     "metadata": {},
     "output_type": "display_data"
    }
   ],
   "source": [
    "import LinearAlgebra: diagm\n",
    "diagonal(m) = diagm(0 => vec(m))"
   ]
  },
  {
   "cell_type": "markdown",
   "metadata": {},
   "source": [
    "### Activation functions"
   ]
  },
  {
   "cell_type": "code",
   "execution_count": 106,
   "metadata": {},
   "outputs": [
    {
     "data": {
      "text/plain": [
       "tanh (generic function with 1 method)"
      ]
     },
     "metadata": {},
     "output_type": "display_data"
    }
   ],
   "source": [
    "softmax(x)  =  exp.(x) ./ sum(exp.(x));\n",
    "dsoftmax(x) = (softmax(x) |> diagonal) .- softmax(x) * (softmax(x) |> transpose);\n",
    "\n",
    "ReLU(x) = max(zero(x), x)\n",
    "identityFunction(x) = x\n",
    "\n",
    "σ(x) = one(x) / (one(x) + exp(-x))\n",
    "tanh(x) = 2.0 / (one(x) + exp(-2.0x)) - one(x)"
   ]
  },
  {
   "cell_type": "markdown",
   "metadata": {},
   "source": [
    "### Cost functions"
   ]
  },
  {
   "cell_type": "code",
   "execution_count": 104,
   "metadata": {},
   "outputs": [
    {
     "data": {
      "text/plain": [
       "binary_cross_entropy (generic function with 1 method)"
      ]
     },
     "metadata": {},
     "output_type": "display_data"
    }
   ],
   "source": [
    "mean_squared_loss(y::Vector, ŷ::Vector) = sum(0.5(y - ŷ).^2)\n",
    "\n",
    "function binary_cross_entropy(y::Vector, ŷ::Vector) \n",
    "    epsilon = eps(1.0)\n",
    "    ## Avoding 0 , 1 in log argument\n",
    "    ŷ = [max(i, epsilon) for i in ŷ]\n",
    "    ŷ = [min(i, 1-epsilon) for i in ŷ]\n",
    "    return -sum(y .* log.(ŷ) + (1 .- y) .* log.(1 .- ŷ)) / length(y)\n",
    "end"
   ]
  },
  {
   "cell_type": "markdown",
   "metadata": {},
   "source": [
    "### Network initialization"
   ]
  },
  {
   "cell_type": "code",
   "execution_count": 59,
   "metadata": {},
   "outputs": [],
   "source": [
    "mutable struct Layer\n",
    "    Wh::Matrix\n",
    "    dWh::Matrix\n",
    "    m::Int\n",
    "    n::Int\n",
    "    activation::Function\n",
    "    Layer(n::Int64,m::Int64,activation::Function=identityFunction) = new(randn(n,m),randn(n,m),m,n,activation) #constructor\n",
    "end\n",
    "\n",
    "mutable struct Network\n",
    "    layers::Vector{Layer} \n",
    "    Network(layers::Vararg{Layer}) = new(vcat(layers...)) \n",
    "end"
   ]
  },
  {
   "cell_type": "markdown",
   "metadata": {},
   "source": [
    "### Pretty printing for Neural Netowwrk structures"
   ]
  },
  {
   "cell_type": "code",
   "execution_count": 60,
   "metadata": {},
   "outputs": [
    {
     "data": {
      "text/plain": [
       "show (generic function with 457 methods)"
      ]
     },
     "metadata": {},
     "output_type": "display_data"
    }
   ],
   "source": [
    "import Base: show, summary\n",
    "show(io::IO, x::Network) = begin\n",
    "    print(\"Neural Netowrk | \") \n",
    "    print(\"Number of layers : $(length(x.layers))\") \n",
    "    println(\"\\nLayers: \")\n",
    "    for (i,layer) in enumerate(x.layers)\n",
    "        print(\"\\t$i. \")\n",
    "        print(layer)\n",
    "    end\n",
    "end\n",
    "\n",
    "show(io::IO, x::Layer) = begin\n",
    "    print(\"Layer : \") \n",
    "    print(\"shape: $(x.m)x$(x.n)\") \n",
    "    println(\" - activation function: $(x.activation)\")\n",
    "end"
   ]
  },
  {
   "cell_type": "code",
   "execution_count": 100,
   "metadata": {},
   "outputs": [
    {
     "data": {
      "text/plain": [
       "Jacobian (generic function with 1 method)"
      ]
     },
     "metadata": {},
     "output_type": "display_data"
    }
   ],
   "source": [
    "# Custom Jacobiaon function for Nest structure\n",
    "JacobianStruct = function Jacobian(m,f,layer_index, args::Vector{T}) where {T <:Number}\n",
    "    jacobian_columns = Matrix{T}[]\n",
    "    for i in 1:length(args)\n",
    "        x = Dual{T}[]\n",
    "        for j = 1:length(args)\n",
    "            seed = (i == j)\n",
    "            push!(x, seed ?\n",
    "                     Dual(args[j], one(args[j])) :\n",
    "                     Dual(args[j], zero(args[j])))\n",
    "        end\n",
    "        column = partials.([f(x)...])\n",
    "        push!(jacobian_columns, column[:, :])\n",
    "    end\n",
    "    column = partials.([f(x)...])\n",
    "end"
   ]
  },
  {
   "cell_type": "code",
   "execution_count": 96,
   "metadata": {},
   "outputs": [],
   "source": [
    "(m::Layer)(x) = m.activation.(reshape(m.Wh, m.n, m.m) * x)\n",
    "(m::Network)(x) = reduce((left, right) -> right ∘ left, m.layers)(x)"
   ]
  },
  {
   "cell_type": "code",
   "execution_count": 103,
   "metadata": {},
   "outputs": [
    {
     "data": {
      "text/plain": [
       "foward (generic function with 2 methods)"
      ]
     },
     "metadata": {},
     "output_type": "display_data"
    }
   ],
   "source": [
    "\n",
    "\n",
    "grad(m::Network, x, y, lr) =\n",
    "    let\n",
    "        dW_updates = []\n",
    "        ### Backpropagation\n",
    "        for (i, layer) in enumerate(m.layers)\n",
    "            dWh = JacobianStruct(m, w -> foward_with_seed(m, x, y, w, i), i, layer.dWh[:])\n",
    "        end\n",
    "\n",
    "        ### Update weights\n",
    "        for (i, layer) in enumerate(m.layers)\n",
    "            m.dWh -= lr * dW_updates[i]\n",
    "        end\n",
    "\n",
    "    end\n",
    "\n",
    "foward_with_seed(m::Network, x, y, w, i) =\n",
    "    let\n",
    "        m.layers[i].Wh = w[:, :]  #Inject seed  \n",
    "        for (i, layer) in enumerate(m.layers)\n",
    "            x = layer(x)\n",
    "        end\n",
    "        L = mean_squared_loss(y, x)\n",
    "        return L\n",
    "    end\n",
    "\n",
    "\n",
    "foward(m::Network, x, y) =\n",
    "    let\n",
    "        for (i, layer) in enumerate(m.layers)\n",
    "            x = layer(x)\n",
    "        end\n",
    "        L = mean_squared_loss(y, x)\n",
    "        return L\n",
    "    end\n",
    "\n"
   ]
  },
  {
   "cell_type": "code",
   "execution_count": 102,
   "metadata": {},
   "outputs": [
    {
     "data": {
      "text/plain": [
       "2.361608504540561"
      ]
     },
     "metadata": {},
     "output_type": "display_data"
    }
   ],
   "source": [
    "x = [10, 4, 4, 8, 4, 1, 9, 0, 0, 1, 10, 3, 5, 3, 5, 4, 6, 5, 10, 6, 2, 10, 8, 1]\n",
    "y = [0,0,0,0,0,0,1,0,0]\n",
    "twoLayerNeuralNet = Network(Layer(36,24,σ),Layer(9,36,σ)) #instantiate a two-layer network\n",
    "foward(twoLayerNeuralNet,x,y)  "
   ]
  },
  {
   "cell_type": "code",
   "execution_count": 101,
   "metadata": {},
   "outputs": [
    {
     "ename": "DimensionMismatch",
     "evalue": "DimensionMismatch(\"new dimensions (36, 24) must be consistent with array size 24\")",
     "output_type": "error",
     "traceback": [
      "DimensionMismatch(\"new dimensions (36, 24) must be consistent with array size 24\")\n",
      "\n",
      "Stacktrace:\n",
      "  [1] (::Base.var\"#throw_dmrsa#272\")(dims::Tuple{Int64, Int64}, len::Int64)\n",
      "    @ Base .\\reshapedarray.jl:41\n",
      "  [2] reshape\n",
      "    @ .\\reshapedarray.jl:45 [inlined]\n",
      "  [3] reshape(::Matrix{Int64}, ::Int64, ::Int64)\n",
      "    @ Base .\\reshapedarray.jl:116\n",
      "  [4] (::Layer)(x::Vector{Int64})\n",
      "    @ Main e:\\Documents\\1. Studia\\MAGISTERSKIE\\Algorytmy w inż danych\\Custom-Julia-NN\\main.ipynb:1\n",
      "  [5] foward_with_seed(m::Network, x::Vector{Int64}, y::Vector{Int64}, w::Vector{Int64}, i::Int64)\n",
      "    @ Main e:\\Documents\\1. Studia\\MAGISTERSKIE\\Algorytmy w inż danych\\Custom-Julia-NN\\main.ipynb:24\n",
      "  [6] (::var\"#82#83\"{Network, Vector{Int64}, Vector{Int64}, Int64})(w::Vector{Int64})\n",
      "    @ Main e:\\Documents\\1. Studia\\MAGISTERSKIE\\Algorytmy w inż danych\\Custom-Julia-NN\\main.ipynb:10\n",
      "  [7] Jacobian(m::Network, f::var\"#82#83\"{Network, Vector{Int64}, Vector{Int64}, Int64}, layer_index::Int64, args::Vector{Float64})\n",
      "    @ Main e:\\Documents\\1. Studia\\MAGISTERSKIE\\Algorytmy w inż danych\\Custom-Julia-NN\\main.ipynb:15\n",
      "  [8] grad(m::Network, x::Vector{Int64}, y::Vector{Int64}, lr::Float64)\n",
      "    @ Main e:\\Documents\\1. Studia\\MAGISTERSKIE\\Algorytmy w inż danych\\Custom-Julia-NN\\main.ipynb:10\n",
      "  [9] top-level scope\n",
      "    @ e:\\Documents\\1. Studia\\MAGISTERSKIE\\Algorytmy w inż danych\\Custom-Julia-NN\\main.ipynb:1\n",
      " [10] eval\n",
      "    @ .\\boot.jl:373 [inlined]\n",
      " [11] include_string(mapexpr::typeof(REPL.softscope), mod::Module, code::String, filename::String)\n",
      "    @ Base .\\loading.jl:1196\n",
      " [12] #invokelatest#2\n",
      "    @ .\\essentials.jl:716 [inlined]\n",
      " [13] invokelatest\n",
      "    @ .\\essentials.jl:714 [inlined]\n",
      " [14] (::VSCodeServer.var\"#164#165\"{VSCodeServer.NotebookRunCellArguments, String})()\n",
      "    @ VSCodeServer c:\\Users\\parzy\\.vscode\\extensions\\julialang.language-julia-1.6.15\\scripts\\packages\\VSCodeServer\\src\\serve_notebook.jl:19\n",
      " [15] withpath(f::VSCodeServer.var\"#164#165\"{VSCodeServer.NotebookRunCellArguments, String}, path::String)\n",
      "    @ VSCodeServer c:\\Users\\parzy\\.vscode\\extensions\\julialang.language-julia-1.6.15\\scripts\\packages\\VSCodeServer\\src\\repl.jl:184\n",
      " [16] notebook_runcell_request(conn::VSCodeServer.JSONRPC.JSONRPCEndpoint{Base.PipeEndpoint, Base.PipeEndpoint}, params::VSCodeServer.NotebookRunCellArguments)\n",
      "    @ VSCodeServer c:\\Users\\parzy\\.vscode\\extensions\\julialang.language-julia-1.6.15\\scripts\\packages\\VSCodeServer\\src\\serve_notebook.jl:13\n",
      " [17] dispatch_msg(x::VSCodeServer.JSONRPC.JSONRPCEndpoint{Base.PipeEndpoint, Base.PipeEndpoint}, dispatcher::VSCodeServer.JSONRPC.MsgDispatcher, msg::Dict{String, Any})\n",
      "    @ VSCodeServer.JSONRPC c:\\Users\\parzy\\.vscode\\extensions\\julialang.language-julia-1.6.15\\scripts\\packages\\JSONRPC\\src\\typed.jl:67\n",
      " [18] serve_notebook(pipename::String, outputchannel_logger::Base.CoreLogging.SimpleLogger; crashreporting_pipename::String)\n",
      "    @ VSCodeServer c:\\Users\\parzy\\.vscode\\extensions\\julialang.language-julia-1.6.15\\scripts\\packages\\VSCodeServer\\src\\serve_notebook.jl:136\n",
      " [19] top-level scope\n",
      "    @ c:\\Users\\parzy\\.vscode\\extensions\\julialang.language-julia-1.6.15\\scripts\\notebook\\notebook.jl:32\n",
      " [20] include(mod::Module, _path::String)\n",
      "    @ Base .\\Base.jl:418\n",
      " [21] exec_options(opts::Base.JLOptions)\n",
      "    @ Base .\\client.jl:292\n",
      " [22] _start()\n",
      "    @ Base .\\client.jl:495"
     ]
    }
   ],
   "source": [
    "grad(twoLayerNeuralNet, x, y, 0.1)"
   ]
  },
  {
   "cell_type": "code",
   "execution_count": 120,
   "metadata": {},
   "outputs": [
    {
     "data": {
      "text/plain": [
       "train (generic function with 1 method)"
      ]
     },
     "metadata": {},
     "output_type": "display_data"
    }
   ],
   "source": [
    "mean_squared_loss(y::BitVector, ŷ::Vector) = sum(0.5(y - ŷ).^2)\n",
    "fullyconnected(w::Vector, n::Number, m::Number, v::Vector, activation::Function) = activation.(reshape(w, n, m) * v)\n",
    "σ(x) = one(x) / (one(x) + exp(-x))\n",
    "\n",
    "\n",
    "function foward(x, wh, wo, y)\n",
    "    x̂ = fullyconnected(wh, 4, 4, x, σ)\n",
    "    ŷ = fullyconnected(wo, 3, 4, x̂, u -> u)\n",
    "end\n",
    "\n",
    "function net(x, wh, wo, y)\n",
    "    x̂ = fullyconnected(wh, 4, 4, x, ReLU)\n",
    "    ŷ = fullyconnected(wo, 3, 4, x̂, u -> u)\n",
    "    E = mean_squared_loss(y, ŷ)\n",
    "end\n",
    "\n",
    "function train(epochs::Int, lr::Float64, X_data, y_data)\n",
    "\n",
    "    X_data = X_train\n",
    "    y_data = y_data\n",
    "\n",
    "    Wh = randn(4, 4)\n",
    "    Wo = randn(3, 4)\n",
    "    dWh = similar(Wh)\n",
    "    dWo = similar(Wo)\n",
    "\n",
    "    Loss_history = Float64[]\n",
    "\n",
    "    for epoch = 1:epochs\n",
    "        epoch_L = []\n",
    "        for i in 1:size(X_train)[2]\n",
    "            x = X_train[:, i]\n",
    "            y = y_data[:, i]\n",
    "            L = net(x, Wh[:], Wo[:], y)\n",
    "            dnet_Wh(x, wh, wo, y) = J(w -> net(x, w, wo, y), wh)\n",
    "            dWh[:] = dnet_Wh(x, Wh[:], Wo[:], y)\n",
    "            dnet_Wo(x, wh, wo, y) = J(w -> net(x, wh, w, y), wo)\n",
    "            dWo[:] = dnet_Wo(x, Wh[:], Wo[:], y)\n",
    "            #push!(Loss_history, L)\n",
    "            push!(epoch_L, L)\n",
    "            Wh -= lr * Wh\n",
    "            Wo -= lr * dWo\n",
    "        end\n",
    "      push!(Loss_history, std(epoch_L))\n",
    "    end\n",
    "    return Loss_history\n",
    "end"
   ]
  },
  {
   "cell_type": "code",
   "execution_count": 121,
   "metadata": {},
   "outputs": [
    {
     "data": {
      "text/plain": [
       "10-element Vector{Float64}:\n",
       " 1.8659204799131222\n",
       " 0.1361480816194746\n",
       " 0.04191824702030254\n",
       " 0.013598271936213041\n",
       " 0.004192622315211514\n",
       " 0.0012668497862709435\n",
       " 0.0003803359050789769\n",
       " 0.00011396120850425649\n",
       " 3.412637921356285e-5\n",
       " 1.0217542483681654e-5"
      ]
     },
     "metadata": {},
     "output_type": "display_data"
    }
   ],
   "source": [
    "#X_train, y_train, X_test, y_test, classes\n",
    "history = train(10, 0.01, X_train, y_train)"
   ]
  },
  {
   "cell_type": "markdown",
   "metadata": {},
   "source": [
    "## Plots"
   ]
  },
  {
   "cell_type": "code",
   "execution_count": 123,
   "metadata": {},
   "outputs": [
    {
     "name": "stdout",
     "output_type": "stream",
     "text": [
      "Plots.plot(history) = Plot{Plots.GRBackend() n=1}\n"
     ]
    },
    {
     "data": {
      "image/png": "[encoded data removed]",
      "image/svg+xml": "<?xml version=\"1.0\" encoding=\"utf-8\"?>\n<svg xmlns=\"http://www.w3.org/2000/svg\" xmlns:xlink=\"http://www.w3.org/1999/xlink\" width=\"600\" height=\"400\" viewBox=\"0 0 2400 1600\">\n<defs>\n  <clipPath id=\"clip370\">\n    <rect x=\"0\" y=\"0\" width=\"2400\" height=\"1600\"/>\n  </clipPath>\n</defs>\n<path clip-path=\"url(#clip370)\" d=\"\nM0 1600 L2400 1600 L2400 0 L0 0  Z\n  \" fill=\"#ffffff\" fill-rule=\"evenodd\" fill-opacity=\"1\"/>\n<defs>\n  <clipPath id=\"clip371\">\n    <rect x=\"480\" y=\"0\" width=\"1681\" height=\"1600\"/>\n  </clipPath>\n</defs>\n<path clip-path=\"url(#clip370)\" d=\"\nM156.112 1486.45 L2352.76 1486.45 L2352.76 47.2441 L156.112 47.2441  Z\n  \" fill=\"#ffffff\" fill-rule=\"evenodd\" fill-opacity=\"1\"/>\n<defs>\n  <clipPath id=\"clip372\">\n    <rect x=\"156\" y=\"47\" width=\"2198\" height=\"1440\"/>\n  </clipPath>\n</defs>\n<polyline clip-path=\"url(#clip372)\" style=\"stroke:#000000; stroke-linecap:butt; stroke-linejoin:round; stroke-width:2; stroke-opacity:0.1; fill:none\" points=\"\n  448.537,1486.45 448.537,47.2441 \n  \"/>\n<polyline clip-path=\"url(#clip372)\" style=\"stroke:#000000; stroke-linecap:butt; stroke-linejoin:round; stroke-width:2; stroke-opacity:0.1; fill:none\" points=\"\n  909.05,1486.45 909.05,47.2441 \n  \"/>\n<polyline clip-path=\"url(#clip372)\" style=\"stroke:#000000; stroke-linecap:butt; stroke-linejoin:round; stroke-width:2; stroke-opacity:0.1; fill:none\" points=\"\n  1369.56,1486.45 1369.56,47.2441 \n  \"/>\n<polyline clip-path=\"url(#clip372)\" style=\"stroke:#000000; stroke-linecap:butt; stroke-linejoin:round; stroke-width:2; stroke-opacity:0.1; fill:none\" points=\"\n  1830.07,1486.45 1830.07,47.2441 \n  \"/>\n<polyline clip-path=\"url(#clip372)\" style=\"stroke:#000000; stroke-linecap:butt; stroke-linejoin:round; stroke-width:2; stroke-opacity:0.1; fill:none\" points=\"\n  2290.59,1486.45 2290.59,47.2441 \n  \"/>\n<polyline clip-path=\"url(#clip370)\" style=\"stroke:#000000; stroke-linecap:butt; stroke-linejoin:round; stroke-width:4; stroke-opacity:1; fill:none\" points=\"\n  156.112,1486.45 2352.76,1486.45 \n  \"/>\n<polyline clip-path=\"url(#clip370)\" style=\"stroke:#000000; stroke-linecap:butt; stroke-linejoin:round; stroke-width:4; stroke-opacity:1; fill:none\" points=\"\n  448.537,1486.45 448.537,1467.55 \n  \"/>\n<polyline clip-path=\"url(#clip370)\" style=\"stroke:#000000; stroke-linecap:butt; stroke-linejoin:round; stroke-width:4; stroke-opacity:1; fill:none\" points=\"\n  909.05,1486.45 909.05,1467.55 \n  \"/>\n<polyline clip-path=\"url(#clip370)\" style=\"stroke:#000000; stroke-linecap:butt; stroke-linejoin:round; stroke-width:4; stroke-opacity:1; fill:none\" points=\"\n  1369.56,1486.45 1369.56,1467.55 \n  \"/>\n<polyline clip-path=\"url(#clip370)\" style=\"stroke:#000000; stroke-linecap:butt; stroke-linejoin:round; stroke-width:4; stroke-opacity:1; fill:none\" points=\"\n  1830.07,1486.45 1830.07,1467.55 \n  \"/>\n<polyline clip-path=\"url(#clip370)\" style=\"stroke:#000000; stroke-linecap:butt; stroke-linejoin:round; stroke-width:4; stroke-opacity:1; fill:none\" points=\"\n  2290.59,1486.45 2290.59,1467.55 \n  \"/>\n<path clip-path=\"url(#clip370)\" d=\"M443.19 1544.91 L459.51 1544.91 L459.51 1548.85 L437.565 1548.85 L437.565 1544.91 Q440.227 1542.16 444.811 1537.53 Q449.417 1532.88 450.598 1531.53 Q452.843 1529.01 453.723 1527.27 Q454.625 1525.51 454.625 1523.82 Q454.625 1521.07 452.681 1519.33 Q450.76 1517.6 447.658 1517.6 Q445.459 1517.6 443.005 1518.36 Q440.575 1519.13 437.797 1520.68 L437.797 1515.95 Q440.621 1514.82 443.075 1514.24 Q445.528 1513.66 447.565 1513.66 Q452.936 1513.66 456.13 1516.35 Q459.324 1519.03 459.324 1523.52 Q459.324 1525.65 458.514 1527.57 Q457.727 1529.47 455.621 1532.07 Q455.042 1532.74 451.94 1535.95 Q448.838 1539.15 443.19 1544.91 Z\" fill=\"#000000\" fill-rule=\"evenodd\" fill-opacity=\"1\" /><path clip-path=\"url(#clip370)\" d=\"M912.059 1518.36 L900.254 1536.81 L912.059 1536.81 L912.059 1518.36 M910.832 1514.29 L916.712 1514.29 L916.712 1536.81 L921.642 1536.81 L921.642 1540.7 L916.712 1540.7 L916.712 1548.85 L912.059 1548.85 L912.059 1540.7 L896.457 1540.7 L896.457 1536.19 L910.832 1514.29 Z\" fill=\"#000000\" fill-rule=\"evenodd\" fill-opacity=\"1\" /><path clip-path=\"url(#clip370)\" d=\"M1369.97 1529.7 Q1366.82 1529.7 1364.97 1531.86 Q1363.14 1534.01 1363.14 1537.76 Q1363.14 1541.49 1364.97 1543.66 Q1366.82 1545.82 1369.97 1545.82 Q1373.12 1545.82 1374.94 1543.66 Q1376.8 1541.49 1376.8 1537.76 Q1376.8 1534.01 1374.94 1531.86 Q1373.12 1529.7 1369.97 1529.7 M1379.25 1515.05 L1379.25 1519.31 Q1377.49 1518.48 1375.68 1518.04 Q1373.9 1517.6 1372.14 1517.6 Q1367.51 1517.6 1365.06 1520.72 Q1362.63 1523.85 1362.28 1530.17 Q1363.65 1528.15 1365.71 1527.09 Q1367.77 1526 1370.24 1526 Q1375.45 1526 1378.46 1529.17 Q1381.49 1532.32 1381.49 1537.76 Q1381.49 1543.08 1378.35 1546.3 Q1375.2 1549.52 1369.97 1549.52 Q1363.97 1549.52 1360.8 1544.94 Q1357.63 1540.33 1357.63 1531.6 Q1357.63 1523.41 1361.52 1518.55 Q1365.41 1513.66 1371.96 1513.66 Q1373.72 1513.66 1375.5 1514.01 Q1377.31 1514.36 1379.25 1515.05 Z\" fill=\"#000000\" fill-rule=\"evenodd\" fill-opacity=\"1\" /><path clip-path=\"url(#clip370)\" d=\"M1830.07 1532.44 Q1826.74 1532.44 1824.82 1534.22 Q1822.92 1536 1822.92 1539.13 Q1822.92 1542.25 1824.82 1544.03 Q1826.74 1545.82 1830.07 1545.82 Q1833.41 1545.82 1835.33 1544.03 Q1837.25 1542.23 1837.25 1539.13 Q1837.25 1536 1835.33 1534.22 Q1833.43 1532.44 1830.07 1532.44 M1825.4 1530.45 Q1822.39 1529.7 1820.7 1527.64 Q1819.03 1525.58 1819.03 1522.62 Q1819.03 1518.48 1821.97 1516.07 Q1824.94 1513.66 1830.07 1513.66 Q1835.24 1513.66 1838.18 1516.07 Q1841.12 1518.48 1841.12 1522.62 Q1841.12 1525.58 1839.43 1527.64 Q1837.76 1529.7 1834.77 1530.45 Q1838.15 1531.23 1840.03 1533.52 Q1841.93 1535.82 1841.93 1539.13 Q1841.93 1544.15 1838.85 1546.83 Q1835.79 1549.52 1830.07 1549.52 Q1824.36 1549.52 1821.28 1546.83 Q1818.22 1544.15 1818.22 1539.13 Q1818.22 1535.82 1820.12 1533.52 Q1822.02 1531.23 1825.4 1530.45 M1823.69 1523.06 Q1823.69 1525.75 1825.35 1527.25 Q1827.04 1528.76 1830.07 1528.76 Q1833.08 1528.76 1834.77 1527.25 Q1836.49 1525.75 1836.49 1523.06 Q1836.49 1520.38 1834.77 1518.87 Q1833.08 1517.37 1830.07 1517.37 Q1827.04 1517.37 1825.35 1518.87 Q1823.69 1520.38 1823.69 1523.06 Z\" fill=\"#000000\" fill-rule=\"evenodd\" fill-opacity=\"1\" /><path clip-path=\"url(#clip370)\" d=\"M2265.27 1544.91 L2272.91 1544.91 L2272.91 1518.55 L2264.6 1520.21 L2264.6 1515.95 L2272.87 1514.29 L2277.54 1514.29 L2277.54 1544.91 L2285.18 1544.91 L2285.18 1548.85 L2265.27 1548.85 L2265.27 1544.91 Z\" fill=\"#000000\" fill-rule=\"evenodd\" fill-opacity=\"1\" /><path clip-path=\"url(#clip370)\" d=\"M2304.63 1517.37 Q2301.01 1517.37 2299.19 1520.93 Q2297.38 1524.47 2297.38 1531.6 Q2297.38 1538.71 2299.19 1542.27 Q2301.01 1545.82 2304.63 1545.82 Q2308.26 1545.82 2310.07 1542.27 Q2311.89 1538.71 2311.89 1531.6 Q2311.89 1524.47 2310.07 1520.93 Q2308.26 1517.37 2304.63 1517.37 M2304.63 1513.66 Q2310.44 1513.66 2313.49 1518.27 Q2316.57 1522.85 2316.57 1531.6 Q2316.57 1540.33 2313.49 1544.94 Q2310.44 1549.52 2304.63 1549.52 Q2298.82 1549.52 2295.74 1544.94 Q2292.68 1540.33 2292.68 1531.6 Q2292.68 1522.85 2295.74 1518.27 Q2298.82 1513.66 2304.63 1513.66 Z\" fill=\"#000000\" fill-rule=\"evenodd\" fill-opacity=\"1\" /><polyline clip-path=\"url(#clip372)\" style=\"stroke:#000000; stroke-linecap:butt; stroke-linejoin:round; stroke-width:2; stroke-opacity:0.1; fill:none\" points=\"\n  156.112,1445.72 2352.76,1445.72 \n  \"/>\n<polyline clip-path=\"url(#clip372)\" style=\"stroke:#000000; stroke-linecap:butt; stroke-linejoin:round; stroke-width:2; stroke-opacity:0.1; fill:none\" points=\"\n  156.112,1081.9 2352.76,1081.9 \n  \"/>\n<polyline clip-path=\"url(#clip372)\" style=\"stroke:#000000; stroke-linecap:butt; stroke-linejoin:round; stroke-width:2; stroke-opacity:0.1; fill:none\" points=\"\n  156.112,718.068 2352.76,718.068 \n  \"/>\n<polyline clip-path=\"url(#clip372)\" style=\"stroke:#000000; stroke-linecap:butt; stroke-linejoin:round; stroke-width:2; stroke-opacity:0.1; fill:none\" points=\"\n  156.112,354.24 2352.76,354.24 \n  \"/>\n<polyline clip-path=\"url(#clip370)\" style=\"stroke:#000000; stroke-linecap:butt; stroke-linejoin:round; stroke-width:4; stroke-opacity:1; fill:none\" points=\"\n  156.112,1486.45 156.112,47.2441 \n  \"/>\n<polyline clip-path=\"url(#clip370)\" style=\"stroke:#000000; stroke-linecap:butt; stroke-linejoin:round; stroke-width:4; stroke-opacity:1; fill:none\" points=\"\n  156.112,1445.72 175.01,1445.72 \n  \"/>\n<polyline clip-path=\"url(#clip370)\" style=\"stroke:#000000; stroke-linecap:butt; stroke-linejoin:round; stroke-width:4; stroke-opacity:1; fill:none\" points=\"\n  156.112,1081.9 175.01,1081.9 \n  \"/>\n<polyline clip-path=\"url(#clip370)\" style=\"stroke:#000000; stroke-linecap:butt; stroke-linejoin:round; stroke-width:4; stroke-opacity:1; fill:none\" points=\"\n  156.112,718.068 175.01,718.068 \n  \"/>\n<polyline clip-path=\"url(#clip370)\" style=\"stroke:#000000; stroke-linecap:butt; stroke-linejoin:round; stroke-width:4; stroke-opacity:1; fill:none\" points=\"\n  156.112,354.24 175.01,354.24 \n  \"/>\n<path clip-path=\"url(#clip370)\" d=\"M62.9365 1431.52 Q59.3254 1431.52 57.4967 1435.09 Q55.6912 1438.63 55.6912 1445.76 Q55.6912 1452.86 57.4967 1456.43 Q59.3254 1459.97 62.9365 1459.97 Q66.5707 1459.97 68.3763 1456.43 Q70.205 1452.86 70.205 1445.76 Q70.205 1438.63 68.3763 1435.09 Q66.5707 1431.52 62.9365 1431.52 M62.9365 1427.82 Q68.7467 1427.82 71.8022 1432.42 Q74.8809 1437.01 74.8809 1445.76 Q74.8809 1454.48 71.8022 1459.09 Q68.7467 1463.67 62.9365 1463.67 Q57.1264 1463.67 54.0477 1459.09 Q50.9921 1454.48 50.9921 1445.76 Q50.9921 1437.01 54.0477 1432.42 Q57.1264 1427.82 62.9365 1427.82 Z\" fill=\"#000000\" fill-rule=\"evenodd\" fill-opacity=\"1\" /><path clip-path=\"url(#clip370)\" d=\"M83.0984 1457.12 L87.9827 1457.12 L87.9827 1463 L83.0984 1463 L83.0984 1457.12 Z\" fill=\"#000000\" fill-rule=\"evenodd\" fill-opacity=\"1\" /><path clip-path=\"url(#clip370)\" d=\"M108.168 1431.52 Q104.557 1431.52 102.728 1435.09 Q100.922 1438.63 100.922 1445.76 Q100.922 1452.86 102.728 1456.43 Q104.557 1459.97 108.168 1459.97 Q111.802 1459.97 113.608 1456.43 Q115.436 1452.86 115.436 1445.76 Q115.436 1438.63 113.608 1435.09 Q111.802 1431.52 108.168 1431.52 M108.168 1427.82 Q113.978 1427.82 117.033 1432.42 Q120.112 1437.01 120.112 1445.76 Q120.112 1454.48 117.033 1459.09 Q113.978 1463.67 108.168 1463.67 Q102.358 1463.67 99.2789 1459.09 Q96.2234 1454.48 96.2234 1445.76 Q96.2234 1437.01 99.2789 1432.42 Q102.358 1427.82 108.168 1427.82 Z\" fill=\"#000000\" fill-rule=\"evenodd\" fill-opacity=\"1\" /><path clip-path=\"url(#clip370)\" d=\"M63.9319 1067.69 Q60.3208 1067.69 58.4921 1071.26 Q56.6865 1074.8 56.6865 1081.93 Q56.6865 1089.04 58.4921 1092.6 Q60.3208 1096.14 63.9319 1096.14 Q67.5661 1096.14 69.3717 1092.6 Q71.2004 1089.04 71.2004 1081.93 Q71.2004 1074.8 69.3717 1071.26 Q67.5661 1067.69 63.9319 1067.69 M63.9319 1063.99 Q69.742 1063.99 72.7976 1068.6 Q75.8763 1073.18 75.8763 1081.93 Q75.8763 1090.66 72.7976 1095.26 Q69.742 1099.85 63.9319 1099.85 Q58.1217 1099.85 55.043 1095.26 Q51.9875 1090.66 51.9875 1081.93 Q51.9875 1073.18 55.043 1068.6 Q58.1217 1063.99 63.9319 1063.99 Z\" fill=\"#000000\" fill-rule=\"evenodd\" fill-opacity=\"1\" /><path clip-path=\"url(#clip370)\" d=\"M84.0938 1093.3 L88.978 1093.3 L88.978 1099.18 L84.0938 1099.18 L84.0938 1093.3 Z\" fill=\"#000000\" fill-rule=\"evenodd\" fill-opacity=\"1\" /><path clip-path=\"url(#clip370)\" d=\"M99.2095 1064.62 L117.566 1064.62 L117.566 1068.55 L103.492 1068.55 L103.492 1077.02 Q104.51 1076.68 105.529 1076.51 Q106.547 1076.33 107.566 1076.33 Q113.353 1076.33 116.733 1079.5 Q120.112 1082.67 120.112 1088.09 Q120.112 1093.67 116.64 1096.77 Q113.168 1099.85 106.848 1099.85 Q104.672 1099.85 102.404 1099.48 Q100.159 1099.11 97.7511 1098.37 L97.7511 1093.67 Q99.8345 1094.8 102.057 1095.36 Q104.279 1095.91 106.756 1095.91 Q110.76 1095.91 113.098 1093.81 Q115.436 1091.7 115.436 1088.09 Q115.436 1084.48 113.098 1082.37 Q110.76 1080.26 106.756 1080.26 Q104.881 1080.26 103.006 1080.68 Q101.154 1081.1 99.2095 1081.98 L99.2095 1064.62 Z\" fill=\"#000000\" fill-rule=\"evenodd\" fill-opacity=\"1\" /><path clip-path=\"url(#clip370)\" d=\"M53.7467 731.413 L61.3856 731.413 L61.3856 705.047 L53.0754 706.714 L53.0754 702.455 L61.3393 700.788 L66.0152 700.788 L66.0152 731.413 L73.654 731.413 L73.654 735.348 L53.7467 735.348 L53.7467 731.413 Z\" fill=\"#000000\" fill-rule=\"evenodd\" fill-opacity=\"1\" /><path clip-path=\"url(#clip370)\" d=\"M83.0984 729.468 L87.9827 729.468 L87.9827 735.348 L83.0984 735.348 L83.0984 729.468 Z\" fill=\"#000000\" fill-rule=\"evenodd\" fill-opacity=\"1\" /><path clip-path=\"url(#clip370)\" d=\"M108.168 703.867 Q104.557 703.867 102.728 707.431 Q100.922 710.973 100.922 718.103 Q100.922 725.209 102.728 728.774 Q104.557 732.315 108.168 732.315 Q111.802 732.315 113.608 728.774 Q115.436 725.209 115.436 718.103 Q115.436 710.973 113.608 707.431 Q111.802 703.867 108.168 703.867 M108.168 700.163 Q113.978 700.163 117.033 704.769 Q120.112 709.353 120.112 718.103 Q120.112 726.829 117.033 731.436 Q113.978 736.019 108.168 736.019 Q102.358 736.019 99.2789 731.436 Q96.2234 726.829 96.2234 718.103 Q96.2234 709.353 99.2789 704.769 Q102.358 700.163 108.168 700.163 Z\" fill=\"#000000\" fill-rule=\"evenodd\" fill-opacity=\"1\" /><path clip-path=\"url(#clip370)\" d=\"M54.7421 367.585 L62.381 367.585 L62.381 341.219 L54.0708 342.886 L54.0708 338.627 L62.3347 336.96 L67.0106 336.96 L67.0106 367.585 L74.6494 367.585 L74.6494 371.52 L54.7421 371.52 L54.7421 367.585 Z\" fill=\"#000000\" fill-rule=\"evenodd\" fill-opacity=\"1\" /><path clip-path=\"url(#clip370)\" d=\"M84.0938 365.641 L88.978 365.641 L88.978 371.52 L84.0938 371.52 L84.0938 365.641 Z\" fill=\"#000000\" fill-rule=\"evenodd\" fill-opacity=\"1\" /><path clip-path=\"url(#clip370)\" d=\"M99.2095 336.96 L117.566 336.96 L117.566 340.895 L103.492 340.895 L103.492 349.368 Q104.51 349.02 105.529 348.858 Q106.547 348.673 107.566 348.673 Q113.353 348.673 116.733 351.844 Q120.112 355.016 120.112 360.432 Q120.112 366.011 116.64 369.113 Q113.168 372.192 106.848 372.192 Q104.672 372.192 102.404 371.821 Q100.159 371.451 97.7511 370.71 L97.7511 366.011 Q99.8345 367.145 102.057 367.701 Q104.279 368.256 106.756 368.256 Q110.76 368.256 113.098 366.15 Q115.436 364.043 115.436 360.432 Q115.436 356.821 113.098 354.715 Q110.76 352.608 106.756 352.608 Q104.881 352.608 103.006 353.025 Q101.154 353.442 99.2095 354.321 L99.2095 336.96 Z\" fill=\"#000000\" fill-rule=\"evenodd\" fill-opacity=\"1\" /><polyline clip-path=\"url(#clip372)\" style=\"stroke:#009af9; stroke-linecap:butt; stroke-linejoin:round; stroke-width:4; stroke-opacity:1; fill:none\" points=\"\n  218.281,87.9763 448.537,1346.65 678.794,1415.22 909.05,1435.83 1139.31,1442.67 1369.56,1444.8 1599.82,1445.45 1830.07,1445.64 2060.33,1445.7 2290.59,1445.72 \n  \n  \"/>\n<path clip-path=\"url(#clip370)\" d=\"\nM1983.03 198.898 L2279.53 198.898 L2279.53 95.2176 L1983.03 95.2176  Z\n  \" fill=\"#ffffff\" fill-rule=\"evenodd\" fill-opacity=\"1\"/>\n<polyline clip-path=\"url(#clip370)\" style=\"stroke:#000000; stroke-linecap:butt; stroke-linejoin:round; stroke-width:4; stroke-opacity:1; fill:none\" points=\"\n  1983.03,198.898 2279.53,198.898 2279.53,95.2176 1983.03,95.2176 1983.03,198.898 \n  \"/>\n<polyline clip-path=\"url(#clip370)\" style=\"stroke:#009af9; stroke-linecap:butt; stroke-linejoin:round; stroke-width:4; stroke-opacity:1; fill:none\" points=\"\n  2007.44,147.058 2153.88,147.058 \n  \"/>\n<path clip-path=\"url(#clip370)\" d=\"M2192.13 166.745 Q2190.33 171.375 2188.61 172.787 Q2186.9 174.199 2184.03 174.199 L2180.63 174.199 L2180.63 170.634 L2183.13 170.634 Q2184.89 170.634 2185.86 169.8 Q2186.83 168.967 2188.01 165.865 L2188.78 163.921 L2178.29 138.412 L2182.8 138.412 L2190.91 158.689 L2199.01 138.412 L2203.52 138.412 L2192.13 166.745 Z\" fill=\"#000000\" fill-rule=\"evenodd\" fill-opacity=\"1\" /><path clip-path=\"url(#clip370)\" d=\"M2210.81 160.402 L2218.45 160.402 L2218.45 134.037 L2210.14 135.703 L2210.14 131.444 L2218.41 129.778 L2223.08 129.778 L2223.08 160.402 L2230.72 160.402 L2230.72 164.338 L2210.81 164.338 L2210.81 160.402 Z\" fill=\"#000000\" fill-rule=\"evenodd\" fill-opacity=\"1\" /></svg>\n",
      "text/html": [
       "<?xml version=\"1.0\" encoding=\"utf-8\"?>\n",
       "<svg xmlns=\"http://www.w3.org/2000/svg\" xmlns:xlink=\"http://www.w3.org/1999/xlink\" width=\"600\" height=\"400\" viewBox=\"0 0 2400 1600\">\n",
       "<defs>\n",
       "  <clipPath id=\"clip420\">\n",
       "    <rect x=\"0\" y=\"0\" width=\"2400\" height=\"1600\"/>\n",
       "  </clipPath>\n",
       "</defs>\n",
       "<path clip-path=\"url(#clip420)\" d=\"\n",
       "M0 1600 L2400 1600 L2400 0 L0 0  Z\n",
       "  \" fill=\"#ffffff\" fill-rule=\"evenodd\" fill-opacity=\"1\"/>\n",
       "<defs>\n",
       "  <clipPath id=\"clip421\">\n",
       "    <rect x=\"480\" y=\"0\" width=\"1681\" height=\"1600\"/>\n",
       "  </clipPath>\n",
       "</defs>\n",
       "<path clip-path=\"url(#clip420)\" d=\"\n",
       "M156.112 1486.45 L2352.76 1486.45 L2352.76 47.2441 L156.112 47.2441  Z\n",
       "  \" fill=\"#ffffff\" fill-rule=\"evenodd\" fill-opacity=\"1\"/>\n",
       "<defs>\n",
       "  <clipPath id=\"clip422\">\n",
       "    <rect x=\"156\" y=\"47\" width=\"2198\" height=\"1440\"/>\n",
       "  </clipPath>\n",
       "</defs>\n",
       "<polyline clip-path=\"url(#clip422)\" style=\"stroke:#000000; stroke-linecap:butt; stroke-linejoin:round; stroke-width:2; stroke-opacity:0.1; fill:none\" points=\"\n",
       "  448.537,1486.45 448.537,47.2441 \n",
       "  \"/>\n",
       "<polyline clip-path=\"url(#clip422)\" style=\"stroke:#000000; stroke-linecap:butt; stroke-linejoin:round; stroke-width:2; stroke-opacity:0.1; fill:none\" points=\"\n",
       "  909.05,1486.45 909.05,47.2441 \n",
       "  \"/>\n",
       "<polyline clip-path=\"url(#clip422)\" style=\"stroke:#000000; stroke-linecap:butt; stroke-linejoin:round; stroke-width:2; stroke-opacity:0.1; fill:none\" points=\"\n",
       "  1369.56,1486.45 1369.56,47.2441 \n",
       "  \"/>\n",
       "<polyline clip-path=\"url(#clip422)\" style=\"stroke:#000000; stroke-linecap:butt; stroke-linejoin:round; stroke-width:2; stroke-opacity:0.1; fill:none\" points=\"\n",
       "  1830.07,1486.45 1830.07,47.2441 \n",
       "  \"/>\n",
       "<polyline clip-path=\"url(#clip422)\" style=\"stroke:#000000; stroke-linecap:butt; stroke-linejoin:round; stroke-width:2; stroke-opacity:0.1; fill:none\" points=\"\n",
       "  2290.59,1486.45 2290.59,47.2441 \n",
       "  \"/>\n",
       "<polyline clip-path=\"url(#clip420)\" style=\"stroke:#000000; stroke-linecap:butt; stroke-linejoin:round; stroke-width:4; stroke-opacity:1; fill:none\" points=\"\n",
       "  156.112,1486.45 2352.76,1486.45 \n",
       "  \"/>\n",
       "<polyline clip-path=\"url(#clip420)\" style=\"stroke:#000000; stroke-linecap:butt; stroke-linejoin:round; stroke-width:4; stroke-opacity:1; fill:none\" points=\"\n",
       "  448.537,1486.45 448.537,1467.55 \n",
       "  \"/>\n",
       "<polyline clip-path=\"url(#clip420)\" style=\"stroke:#000000; stroke-linecap:butt; stroke-linejoin:round; stroke-width:4; stroke-opacity:1; fill:none\" points=\"\n",
       "  909.05,1486.45 909.05,1467.55 \n",
       "  \"/>\n",
       "<polyline clip-path=\"url(#clip420)\" style=\"stroke:#000000; stroke-linecap:butt; stroke-linejoin:round; stroke-width:4; stroke-opacity:1; fill:none\" points=\"\n",
       "  1369.56,1486.45 1369.56,1467.55 \n",
       "  \"/>\n",
       "<polyline clip-path=\"url(#clip420)\" style=\"stroke:#000000; stroke-linecap:butt; stroke-linejoin:round; stroke-width:4; stroke-opacity:1; fill:none\" points=\"\n",
       "  1830.07,1486.45 1830.07,1467.55 \n",
       "  \"/>\n",
       "<polyline clip-path=\"url(#clip420)\" style=\"stroke:#000000; stroke-linecap:butt; stroke-linejoin:round; stroke-width:4; stroke-opacity:1; fill:none\" points=\"\n",
       "  2290.59,1486.45 2290.59,1467.55 \n",
       "  \"/>\n",
       "<path clip-path=\"url(#clip420)\" d=\"M443.19 1544.91 L459.51 1544.91 L459.51 1548.85 L437.565 1548.85 L437.565 1544.91 Q440.227 1542.16 444.811 1537.53 Q449.417 1532.88 450.598 1531.53 Q452.843 1529.01 453.723 1527.27 Q454.625 1525.51 454.625 1523.82 Q454.625 1521.07 452.681 1519.33 Q450.76 1517.6 447.658 1517.6 Q445.459 1517.6 443.005 1518.36 Q440.575 1519.13 437.797 1520.68 L437.797 1515.95 Q440.621 1514.82 443.075 1514.24 Q445.528 1513.66 447.565 1513.66 Q452.936 1513.66 456.13 1516.35 Q459.324 1519.03 459.324 1523.52 Q459.324 1525.65 458.514 1527.57 Q457.727 1529.47 455.621 1532.07 Q455.042 1532.74 451.94 1535.95 Q448.838 1539.15 443.19 1544.91 Z\" fill=\"#000000\" fill-rule=\"evenodd\" fill-opacity=\"1\" /><path clip-path=\"url(#clip420)\" d=\"M912.059 1518.36 L900.254 1536.81 L912.059 1536.81 L912.059 1518.36 M910.832 1514.29 L916.712 1514.29 L916.712 1536.81 L921.642 1536.81 L921.642 1540.7 L916.712 1540.7 L916.712 1548.85 L912.059 1548.85 L912.059 1540.7 L896.457 1540.7 L896.457 1536.19 L910.832 1514.29 Z\" fill=\"#000000\" fill-rule=\"evenodd\" fill-opacity=\"1\" /><path clip-path=\"url(#clip420)\" d=\"M1369.97 1529.7 Q1366.82 1529.7 1364.97 1531.86 Q1363.14 1534.01 1363.14 1537.76 Q1363.14 1541.49 1364.97 1543.66 Q1366.82 1545.82 1369.97 1545.82 Q1373.12 1545.82 1374.94 1543.66 Q1376.8 1541.49 1376.8 1537.76 Q1376.8 1534.01 1374.94 1531.86 Q1373.12 1529.7 1369.97 1529.7 M1379.25 1515.05 L1379.25 1519.31 Q1377.49 1518.48 1375.68 1518.04 Q1373.9 1517.6 1372.14 1517.6 Q1367.51 1517.6 1365.06 1520.72 Q1362.63 1523.85 1362.28 1530.17 Q1363.65 1528.15 1365.71 1527.09 Q1367.77 1526 1370.24 1526 Q1375.45 1526 1378.46 1529.17 Q1381.49 1532.32 1381.49 1537.76 Q1381.49 1543.08 1378.35 1546.3 Q1375.2 1549.52 1369.97 1549.52 Q1363.97 1549.52 1360.8 1544.94 Q1357.63 1540.33 1357.63 1531.6 Q1357.63 1523.41 1361.52 1518.55 Q1365.41 1513.66 1371.96 1513.66 Q1373.72 1513.66 1375.5 1514.01 Q1377.31 1514.36 1379.25 1515.05 Z\" fill=\"#000000\" fill-rule=\"evenodd\" fill-opacity=\"1\" /><path clip-path=\"url(#clip420)\" d=\"M1830.07 1532.44 Q1826.74 1532.44 1824.82 1534.22 Q1822.92 1536 1822.92 1539.13 Q1822.92 1542.25 1824.82 1544.03 Q1826.74 1545.82 1830.07 1545.82 Q1833.41 1545.82 1835.33 1544.03 Q1837.25 1542.23 1837.25 1539.13 Q1837.25 1536 1835.33 1534.22 Q1833.43 1532.44 1830.07 1532.44 M1825.4 1530.45 Q1822.39 1529.7 1820.7 1527.64 Q1819.03 1525.58 1819.03 1522.62 Q1819.03 1518.48 1821.97 1516.07 Q1824.94 1513.66 1830.07 1513.66 Q1835.24 1513.66 1838.18 1516.07 Q1841.12 1518.48 1841.12 1522.62 Q1841.12 1525.58 1839.43 1527.64 Q1837.76 1529.7 1834.77 1530.45 Q1838.15 1531.23 1840.03 1533.52 Q1841.93 1535.82 1841.93 1539.13 Q1841.93 1544.15 1838.85 1546.83 Q1835.79 1549.52 1830.07 1549.52 Q1824.36 1549.52 1821.28 1546.83 Q1818.22 1544.15 1818.22 1539.13 Q1818.22 1535.82 1820.12 1533.52 Q1822.02 1531.23 1825.4 1530.45 M1823.69 1523.06 Q1823.69 1525.75 1825.35 1527.25 Q1827.04 1528.76 1830.07 1528.76 Q1833.08 1528.76 1834.77 1527.25 Q1836.49 1525.75 1836.49 1523.06 Q1836.49 1520.38 1834.77 1518.87 Q1833.08 1517.37 1830.07 1517.37 Q1827.04 1517.37 1825.35 1518.87 Q1823.69 1520.38 1823.69 1523.06 Z\" fill=\"#000000\" fill-rule=\"evenodd\" fill-opacity=\"1\" /><path clip-path=\"url(#clip420)\" d=\"M2265.27 1544.91 L2272.91 1544.91 L2272.91 1518.55 L2264.6 1520.21 L2264.6 1515.95 L2272.87 1514.29 L2277.54 1514.29 L2277.54 1544.91 L2285.18 1544.91 L2285.18 1548.85 L2265.27 1548.85 L2265.27 1544.91 Z\" fill=\"#000000\" fill-rule=\"evenodd\" fill-opacity=\"1\" /><path clip-path=\"url(#clip420)\" d=\"M2304.63 1517.37 Q2301.01 1517.37 2299.19 1520.93 Q2297.38 1524.47 2297.38 1531.6 Q2297.38 1538.71 2299.19 1542.27 Q2301.01 1545.82 2304.63 1545.82 Q2308.26 1545.82 2310.07 1542.27 Q2311.89 1538.71 2311.89 1531.6 Q2311.89 1524.47 2310.07 1520.93 Q2308.26 1517.37 2304.63 1517.37 M2304.63 1513.66 Q2310.44 1513.66 2313.49 1518.27 Q2316.57 1522.85 2316.57 1531.6 Q2316.57 1540.33 2313.49 1544.94 Q2310.44 1549.52 2304.63 1549.52 Q2298.82 1549.52 2295.74 1544.94 Q2292.68 1540.33 2292.68 1531.6 Q2292.68 1522.85 2295.74 1518.27 Q2298.82 1513.66 2304.63 1513.66 Z\" fill=\"#000000\" fill-rule=\"evenodd\" fill-opacity=\"1\" /><polyline clip-path=\"url(#clip422)\" style=\"stroke:#000000; stroke-linecap:butt; stroke-linejoin:round; stroke-width:2; stroke-opacity:0.1; fill:none\" points=\"\n",
       "  156.112,1445.72 2352.76,1445.72 \n",
       "  \"/>\n",
       "<polyline clip-path=\"url(#clip422)\" style=\"stroke:#000000; stroke-linecap:butt; stroke-linejoin:round; stroke-width:2; stroke-opacity:0.1; fill:none\" points=\"\n",
       "  156.112,1081.9 2352.76,1081.9 \n",
       "  \"/>\n",
       "<polyline clip-path=\"url(#clip422)\" style=\"stroke:#000000; stroke-linecap:butt; stroke-linejoin:round; stroke-width:2; stroke-opacity:0.1; fill:none\" points=\"\n",
       "  156.112,718.068 2352.76,718.068 \n",
       "  \"/>\n",
       "<polyline clip-path=\"url(#clip422)\" style=\"stroke:#000000; stroke-linecap:butt; stroke-linejoin:round; stroke-width:2; stroke-opacity:0.1; fill:none\" points=\"\n",
       "  156.112,354.24 2352.76,354.24 \n",
       "  \"/>\n",
       "<polyline clip-path=\"url(#clip420)\" style=\"stroke:#000000; stroke-linecap:butt; stroke-linejoin:round; stroke-width:4; stroke-opacity:1; fill:none\" points=\"\n",
       "  156.112,1486.45 156.112,47.2441 \n",
       "  \"/>\n",
       "<polyline clip-path=\"url(#clip420)\" style=\"stroke:#000000; stroke-linecap:butt; stroke-linejoin:round; stroke-width:4; stroke-opacity:1; fill:none\" points=\"\n",
       "  156.112,1445.72 175.01,1445.72 \n",
       "  \"/>\n",
       "<polyline clip-path=\"url(#clip420)\" style=\"stroke:#000000; stroke-linecap:butt; stroke-linejoin:round; stroke-width:4; stroke-opacity:1; fill:none\" points=\"\n",
       "  156.112,1081.9 175.01,1081.9 \n",
       "  \"/>\n",
       "<polyline clip-path=\"url(#clip420)\" style=\"stroke:#000000; stroke-linecap:butt; stroke-linejoin:round; stroke-width:4; stroke-opacity:1; fill:none\" points=\"\n",
       "  156.112,718.068 175.01,718.068 \n",
       "  \"/>\n",
       "<polyline clip-path=\"url(#clip420)\" style=\"stroke:#000000; stroke-linecap:butt; stroke-linejoin:round; stroke-width:4; stroke-opacity:1; fill:none\" points=\"\n",
       "  156.112,354.24 175.01,354.24 \n",
       "  \"/>\n",
       "<path clip-path=\"url(#clip420)\" d=\"M62.9365 1431.52 Q59.3254 1431.52 57.4967 1435.09 Q55.6912 1438.63 55.6912 1445.76 Q55.6912 1452.86 57.4967 1456.43 Q59.3254 1459.97 62.9365 1459.97 Q66.5707 1459.97 68.3763 1456.43 Q70.205 1452.86 70.205 1445.76 Q70.205 1438.63 68.3763 1435.09 Q66.5707 1431.52 62.9365 1431.52 M62.9365 1427.82 Q68.7467 1427.82 71.8022 1432.42 Q74.8809 1437.01 74.8809 1445.76 Q74.8809 1454.48 71.8022 1459.09 Q68.7467 1463.67 62.9365 1463.67 Q57.1264 1463.67 54.0477 1459.09 Q50.9921 1454.48 50.9921 1445.76 Q50.9921 1437.01 54.0477 1432.42 Q57.1264 1427.82 62.9365 1427.82 Z\" fill=\"#000000\" fill-rule=\"evenodd\" fill-opacity=\"1\" /><path clip-path=\"url(#clip420)\" d=\"M83.0984 1457.12 L87.9827 1457.12 L87.9827 1463 L83.0984 1463 L83.0984 1457.12 Z\" fill=\"#000000\" fill-rule=\"evenodd\" fill-opacity=\"1\" /><path clip-path=\"url(#clip420)\" d=\"M108.168 1431.52 Q104.557 1431.52 102.728 1435.09 Q100.922 1438.63 100.922 1445.76 Q100.922 1452.86 102.728 1456.43 Q104.557 1459.97 108.168 1459.97 Q111.802 1459.97 113.608 1456.43 Q115.436 1452.86 115.436 1445.76 Q115.436 1438.63 113.608 1435.09 Q111.802 1431.52 108.168 1431.52 M108.168 1427.82 Q113.978 1427.82 117.033 1432.42 Q120.112 1437.01 120.112 1445.76 Q120.112 1454.48 117.033 1459.09 Q113.978 1463.67 108.168 1463.67 Q102.358 1463.67 99.2789 1459.09 Q96.2234 1454.48 96.2234 1445.76 Q96.2234 1437.01 99.2789 1432.42 Q102.358 1427.82 108.168 1427.82 Z\" fill=\"#000000\" fill-rule=\"evenodd\" fill-opacity=\"1\" /><path clip-path=\"url(#clip420)\" d=\"M63.9319 1067.69 Q60.3208 1067.69 58.4921 1071.26 Q56.6865 1074.8 56.6865 1081.93 Q56.6865 1089.04 58.4921 1092.6 Q60.3208 1096.14 63.9319 1096.14 Q67.5661 1096.14 69.3717 1092.6 Q71.2004 1089.04 71.2004 1081.93 Q71.2004 1074.8 69.3717 1071.26 Q67.5661 1067.69 63.9319 1067.69 M63.9319 1063.99 Q69.742 1063.99 72.7976 1068.6 Q75.8763 1073.18 75.8763 1081.93 Q75.8763 1090.66 72.7976 1095.26 Q69.742 1099.85 63.9319 1099.85 Q58.1217 1099.85 55.043 1095.26 Q51.9875 1090.66 51.9875 1081.93 Q51.9875 1073.18 55.043 1068.6 Q58.1217 1063.99 63.9319 1063.99 Z\" fill=\"#000000\" fill-rule=\"evenodd\" fill-opacity=\"1\" /><path clip-path=\"url(#clip420)\" d=\"M84.0938 1093.3 L88.978 1093.3 L88.978 1099.18 L84.0938 1099.18 L84.0938 1093.3 Z\" fill=\"#000000\" fill-rule=\"evenodd\" fill-opacity=\"1\" /><path clip-path=\"url(#clip420)\" d=\"M99.2095 1064.62 L117.566 1064.62 L117.566 1068.55 L103.492 1068.55 L103.492 1077.02 Q104.51 1076.68 105.529 1076.51 Q106.547 1076.33 107.566 1076.33 Q113.353 1076.33 116.733 1079.5 Q120.112 1082.67 120.112 1088.09 Q120.112 1093.67 116.64 1096.77 Q113.168 1099.85 106.848 1099.85 Q104.672 1099.85 102.404 1099.48 Q100.159 1099.11 97.7511 1098.37 L97.7511 1093.67 Q99.8345 1094.8 102.057 1095.36 Q104.279 1095.91 106.756 1095.91 Q110.76 1095.91 113.098 1093.81 Q115.436 1091.7 115.436 1088.09 Q115.436 1084.48 113.098 1082.37 Q110.76 1080.26 106.756 1080.26 Q104.881 1080.26 103.006 1080.68 Q101.154 1081.1 99.2095 1081.98 L99.2095 1064.62 Z\" fill=\"#000000\" fill-rule=\"evenodd\" fill-opacity=\"1\" /><path clip-path=\"url(#clip420)\" d=\"M53.7467 731.413 L61.3856 731.413 L61.3856 705.047 L53.0754 706.714 L53.0754 702.455 L61.3393 700.788 L66.0152 700.788 L66.0152 731.413 L73.654 731.413 L73.654 735.348 L53.7467 735.348 L53.7467 731.413 Z\" fill=\"#000000\" fill-rule=\"evenodd\" fill-opacity=\"1\" /><path clip-path=\"url(#clip420)\" d=\"M83.0984 729.468 L87.9827 729.468 L87.9827 735.348 L83.0984 735.348 L83.0984 729.468 Z\" fill=\"#000000\" fill-rule=\"evenodd\" fill-opacity=\"1\" /><path clip-path=\"url(#clip420)\" d=\"M108.168 703.867 Q104.557 703.867 102.728 707.431 Q100.922 710.973 100.922 718.103 Q100.922 725.209 102.728 728.774 Q104.557 732.315 108.168 732.315 Q111.802 732.315 113.608 728.774 Q115.436 725.209 115.436 718.103 Q115.436 710.973 113.608 707.431 Q111.802 703.867 108.168 703.867 M108.168 700.163 Q113.978 700.163 117.033 704.769 Q120.112 709.353 120.112 718.103 Q120.112 726.829 117.033 731.436 Q113.978 736.019 108.168 736.019 Q102.358 736.019 99.2789 731.436 Q96.2234 726.829 96.2234 718.103 Q96.2234 709.353 99.2789 704.769 Q102.358 700.163 108.168 700.163 Z\" fill=\"#000000\" fill-rule=\"evenodd\" fill-opacity=\"1\" /><path clip-path=\"url(#clip420)\" d=\"M54.7421 367.585 L62.381 367.585 L62.381 341.219 L54.0708 342.886 L54.0708 338.627 L62.3347 336.96 L67.0106 336.96 L67.0106 367.585 L74.6494 367.585 L74.6494 371.52 L54.7421 371.52 L54.7421 367.585 Z\" fill=\"#000000\" fill-rule=\"evenodd\" fill-opacity=\"1\" /><path clip-path=\"url(#clip420)\" d=\"M84.0938 365.641 L88.978 365.641 L88.978 371.52 L84.0938 371.52 L84.0938 365.641 Z\" fill=\"#000000\" fill-rule=\"evenodd\" fill-opacity=\"1\" /><path clip-path=\"url(#clip420)\" d=\"M99.2095 336.96 L117.566 336.96 L117.566 340.895 L103.492 340.895 L103.492 349.368 Q104.51 349.02 105.529 348.858 Q106.547 348.673 107.566 348.673 Q113.353 348.673 116.733 351.844 Q120.112 355.016 120.112 360.432 Q120.112 366.011 116.64 369.113 Q113.168 372.192 106.848 372.192 Q104.672 372.192 102.404 371.821 Q100.159 371.451 97.7511 370.71 L97.7511 366.011 Q99.8345 367.145 102.057 367.701 Q104.279 368.256 106.756 368.256 Q110.76 368.256 113.098 366.15 Q115.436 364.043 115.436 360.432 Q115.436 356.821 113.098 354.715 Q110.76 352.608 106.756 352.608 Q104.881 352.608 103.006 353.025 Q101.154 353.442 99.2095 354.321 L99.2095 336.96 Z\" fill=\"#000000\" fill-rule=\"evenodd\" fill-opacity=\"1\" /><polyline clip-path=\"url(#clip422)\" style=\"stroke:#009af9; stroke-linecap:butt; stroke-linejoin:round; stroke-width:4; stroke-opacity:1; fill:none\" points=\"\n",
       "  218.281,87.9763 448.537,1346.65 678.794,1415.22 909.05,1435.83 1139.31,1442.67 1369.56,1444.8 1599.82,1445.45 1830.07,1445.64 2060.33,1445.7 2290.59,1445.72 \n",
       "  \n",
       "  \"/>\n",
       "<path clip-path=\"url(#clip420)\" d=\"\n",
       "M1983.03 198.898 L2279.53 198.898 L2279.53 95.2176 L1983.03 95.2176  Z\n",
       "  \" fill=\"#ffffff\" fill-rule=\"evenodd\" fill-opacity=\"1\"/>\n",
       "<polyline clip-path=\"url(#clip420)\" style=\"stroke:#000000; stroke-linecap:butt; stroke-linejoin:round; stroke-width:4; stroke-opacity:1; fill:none\" points=\"\n",
       "  1983.03,198.898 2279.53,198.898 2279.53,95.2176 1983.03,95.2176 1983.03,198.898 \n",
       "  \"/>\n",
       "<polyline clip-path=\"url(#clip420)\" style=\"stroke:#009af9; stroke-linecap:butt; stroke-linejoin:round; stroke-width:4; stroke-opacity:1; fill:none\" points=\"\n",
       "  2007.44,147.058 2153.88,147.058 \n",
       "  \"/>\n",
       "<path clip-path=\"url(#clip420)\" d=\"M2192.13 166.745 Q2190.33 171.375 2188.61 172.787 Q2186.9 174.199 2184.03 174.199 L2180.63 174.199 L2180.63 170.634 L2183.13 170.634 Q2184.89 170.634 2185.86 169.8 Q2186.83 168.967 2188.01 165.865 L2188.78 163.921 L2178.29 138.412 L2182.8 138.412 L2190.91 158.689 L2199.01 138.412 L2203.52 138.412 L2192.13 166.745 Z\" fill=\"#000000\" fill-rule=\"evenodd\" fill-opacity=\"1\" /><path clip-path=\"url(#clip420)\" d=\"M2210.81 160.402 L2218.45 160.402 L2218.45 134.037 L2210.14 135.703 L2210.14 131.444 L2218.41 129.778 L2223.08 129.778 L2223.08 160.402 L2230.72 160.402 L2230.72 164.338 L2210.81 164.338 L2210.81 160.402 Z\" fill=\"#000000\" fill-rule=\"evenodd\" fill-opacity=\"1\" /></svg>\n"
      ]
     },
     "metadata": {},
     "output_type": "display_data"
    }
   ],
   "source": [
    "using Plots\n",
    "@show Plots.plot(history)"
   ]
  },
  {
   "cell_type": "code",
   "execution_count": null,
   "metadata": {},
   "outputs": [],
   "source": []
  }
 ],
 "metadata": {
  "kernelspec": {
   "display_name": "Julia 1.7.2",
   "language": "julia",
   "name": "julia-1.7"
  },
  "language_info": {
   "file_extension": ".jl",
   "mimetype": "application/julia",
   "name": "julia",
   "version": "1.7.2"
  },
  "orig_nbformat": 4
 },
 "nbformat": 4,
 "nbformat_minor": 2
}
